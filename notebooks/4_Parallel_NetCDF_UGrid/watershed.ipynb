{
 "cells": [
  {
   "cell_type": "markdown",
   "metadata": {},
   "source": [
    "# Parallelization, NetCDF, and UGrid on a watershed\n",
    "This example is based on the watershed from the [FloPy paper](https://doi.org/10.1111/gwat.13327) published in Groundwater. The following figure shows the lay of the land with a plan view of the watershed and two cross-sections. Although the figure shows Voronoi type (DISV) grid, this notebook will use a regularly structured (DIS) grid for the spatial discretization. \n",
    "<div>\n",
    "<img src=\"./data/watershed.png\" width=\"800\"/>\n",
    "</div>"
   ]
  },
  {
   "cell_type": "markdown",
   "metadata": {},
   "source": [
    "## Outline\n",
    "* Construct the grid, generate boundary data\n",
    "* Use KDTree technique to mark area near the rivers as 'valley', and away as 'mountain'\n",
    "* Build the groundwater flow (GWF) model with FloPy\n",
    "* Add two transport models (GWT) for the tracers: 'mountain' and 'valley'\n",
    "* Run the simulation and plot Heads, Flow pattern, Groundwater origin, Distribution over time\n",
    "* Enable NetCDF output and use the ModelSplitter to partition the model\n",
    "* Run parallel simulation\n",
    "* Use `xugrid` to open the NetCDF output, merge output data, and plot\n"
   ]
  },
  {
   "cell_type": "markdown",
   "metadata": {},
   "source": [
    "### Imports"
   ]
  },
  {
   "cell_type": "code",
   "execution_count": null,
   "metadata": {},
   "outputs": [],
   "source": [
    "import os\n",
    "import matplotlib.pyplot as plt\n",
    "import flopy\n",
    "from flopy.discretization import StructuredGrid\n",
    "\n",
    "# import some ready made items for your convenience\n",
    "from defaults import *"
   ]
  },
  {
   "cell_type": "code",
   "execution_count": null,
   "metadata": {},
   "outputs": [],
   "source": [
    "model_dir = get_base_dir()"
   ]
  },
  {
   "cell_type": "markdown",
   "metadata": {},
   "source": [
    "### Boundary data\n",
    "\n",
    "Load the boundary data from `defaults.py`, containing rivers and the domain boundary"
   ]
  },
  {
   "cell_type": "code",
   "execution_count": null,
   "metadata": {},
   "outputs": [],
   "source": [
    "boundary_polygon = string2geom(geometry[\"boundary\"])\n",
    "bp = np.array(boundary_polygon)\n",
    "\n",
    "stream_segs = (\n",
    "    geometry[\"streamseg1\"],\n",
    "    geometry[\"streamseg2\"],\n",
    "    geometry[\"streamseg3\"],\n",
    "    geometry[\"streamseg4\"],\n",
    ")\n",
    "sgs = [string2geom(sg) for sg in stream_segs]\n",
    "\n",
    "\n",
    "fig = plt.figure(figsize=figsize)\n",
    "ax = fig.add_subplot()\n",
    "ax.set_aspect(\"equal\")\n",
    "\n",
    "riv_colors = (\"blue\", \"cyan\", \"green\", \"orange\", \"red\")\n",
    "\n",
    "ax.plot(bp[:, 0], bp[:, 1], \"ko-\")\n",
    "for idx, sg in enumerate(sgs):\n",
    "    sa = np.array(sg)\n",
    "    ax.plot(sa[:, 0], sa[:, 1], color=riv_colors[idx], lw=0.75, marker=\"o\")"
   ]
  },
  {
   "cell_type": "markdown",
   "metadata": {},
   "source": [
    "### Construct the regular (DIS) grid"
   ]
  },
  {
   "cell_type": "markdown",
   "metadata": {},
   "source": [
    "Set the cell dimensions. This will determine the number of cells in the grid. For example, setting dx = dy = 2500.0 will result in 9595 active cells"
   ]
  },
  {
   "cell_type": "code",
   "execution_count": null,
   "metadata": {},
   "outputs": [],
   "source": [
    "dx = 2500.0\n",
    "dy = 2500.0\n",
    "nrow = int(Ly / dy) + 1\n",
    "ncol = int(Lx / dx) + 1"
   ]
  },
  {
   "cell_type": "markdown",
   "metadata": {},
   "source": [
    "Create a structured grid to work with (NB: this is not the simulation grid object)"
   ]
  },
  {
   "cell_type": "code",
   "execution_count": null,
   "metadata": {},
   "outputs": [],
   "source": [
    "working_grid = StructuredGrid(\n",
    "    nlay=1,\n",
    "    delr=np.full(ncol, dx),\n",
    "    delc=np.full(nrow, dy),\n",
    "    xoff=0.0,\n",
    "    yoff=0.0,\n",
    "    top=np.full((nrow, ncol), 1000.0),\n",
    "    botm=np.full((1, nrow, ncol), -100.0),\n",
    ")\n",
    "\n",
    "set_structured_idomain(working_grid, boundary_polygon)\n",
    "print(\"grid data: \", Lx, Ly, nrow, ncol)"
   ]
  },
  {
   "cell_type": "markdown",
   "metadata": {},
   "source": [
    "Load the topographic data from file"
   ]
  },
  {
   "cell_type": "code",
   "execution_count": null,
   "metadata": {},
   "outputs": [],
   "source": [
    "fine_topo = flopy.utils.Raster.load(\"./data/fine_topo.asc\")\n",
    "ax = fine_topo.plot()"
   ]
  },
  {
   "cell_type": "markdown",
   "metadata": {},
   "source": [
    "and resample the elevation onto the working grid"
   ]
  },
  {
   "cell_type": "code",
   "execution_count": null,
   "metadata": {},
   "outputs": [],
   "source": [
    "top_wg = fine_topo.resample_to_grid(\n",
    "    working_grid,\n",
    "    band=fine_topo.bands[0],\n",
    "    method=\"linear\",\n",
    "    extrapolate_edges=True,\n",
    ")"
   ]
  },
  {
   "cell_type": "markdown",
   "metadata": {},
   "source": [
    "### Intersect river segments with grid\n",
    "Use a utility function to determine the grid cells that have a RIV segment, and generate an array to mark the river intersections."
   ]
  },
  {
   "cell_type": "code",
   "execution_count": null,
   "metadata": {},
   "outputs": [],
   "source": [
    "ixs, cellids, lengths = intersect_segments(working_grid, sgs)\n",
    "\n",
    "intersection_rg = np.zeros(working_grid.shape[1:])\n",
    "for loc in cellids:\n",
    "    intersection_rg[loc] = 1"
   ]
  },
  {
   "cell_type": "markdown",
   "metadata": {},
   "source": [
    "and plot the topology, the domain boundary, the RIV segments, and the grid nodes that have a RIV element in a single plot"
   ]
  },
  {
   "cell_type": "code",
   "execution_count": null,
   "metadata": {},
   "outputs": [],
   "source": [
    "fig = plt.figure(figsize=figsize)\n",
    "ax = fig.add_subplot()\n",
    "pmv = flopy.plot.PlotMapView(modelgrid=working_grid)\n",
    "ax.set_aspect(\"equal\")\n",
    "pmv.plot_array(top_wg)\n",
    "pmv.plot_array(\n",
    "    intersection_rg,\n",
    "    masked_values=[\n",
    "        0,\n",
    "    ],\n",
    "    alpha=0.2,\n",
    "    cmap=\"Reds_r\",\n",
    ")\n",
    "pmv.plot_inactive(color_noflow=\"white\")\n",
    "ax.plot(bp[:, 0], bp[:, 1], \"k\", linestyle=\"dashed\")\n",
    "for sg in sgs:\n",
    "    sa = np.array(sg)\n",
    "    ax.plot(sa[:, 0], sa[:, 1], \"b-\")"
   ]
  },
  {
   "cell_type": "markdown",
   "metadata": {},
   "source": [
    "### Generate TOP and BOT coordinates from the topology"
   ]
  },
  {
   "cell_type": "code",
   "execution_count": null,
   "metadata": {},
   "outputs": [],
   "source": [
    "nlay = 5\n",
    "dv0 = 5.0\n",
    "\n",
    "topc = np.zeros((nlay, nrow, ncol), dtype=float)\n",
    "botm = np.zeros((nlay, nrow, ncol), dtype=float)\n",
    "dv = dv0\n",
    "topc[0] = top_wg.copy()\n",
    "botm[0] = topc[0] - dv\n",
    "for idx in range(1, nlay):\n",
    "    dv *= 1.5\n",
    "    topc[idx] = botm[idx - 1]\n",
    "    botm[idx] = topc[idx] - dv\n",
    "\n",
    "for k in range(nlay):\n",
    "    print(f\"<z> for layer {k+1}: {(topc[k] - botm[k]).mean()}\")"
   ]
  },
  {
   "cell_type": "markdown",
   "metadata": {},
   "source": [
    "### Hydraulic conductivity\n",
    "Set uniform  hydraulic conductivity except for the two aquitards"
   ]
  },
  {
   "cell_type": "code",
   "execution_count": null,
   "metadata": {},
   "outputs": [],
   "source": [
    "hyd_cond = 10.0\n",
    "hk = hyd_cond * np.ones((nlay, nrow, ncol), dtype=float)\n",
    "hk[1, :, 25:] = hyd_cond * 0.001\n",
    "hk[3, :, 10:] = hyd_cond * 0.00005"
   ]
  },
  {
   "cell_type": "markdown",
   "metadata": {},
   "source": [
    "### Create the drain data for the river segments"
   ]
  },
  {
   "cell_type": "code",
   "execution_count": null,
   "metadata": {},
   "outputs": [],
   "source": [
    "leakance = hyd_cond / (0.5 * dv0)  # kv / b\n",
    "drn_data = build_drain_data(\n",
    "    working_grid,\n",
    "    cellids,\n",
    "    lengths,\n",
    "    leakance,\n",
    "    top_wg,\n",
    ")\n",
    "drn_data[:3]"
   ]
  },
  {
   "cell_type": "markdown",
   "metadata": {},
   "source": [
    "### Create the groundwater discharge drain data"
   ]
  },
  {
   "cell_type": "code",
   "execution_count": null,
   "metadata": {},
   "outputs": [],
   "source": [
    "gw_discharge_data = build_groundwater_discharge_data(\n",
    "    working_grid,\n",
    "    leakance,\n",
    "    top_wg,\n",
    ")\n",
    "gw_discharge_data[:3]"
   ]
  },
  {
   "cell_type": "markdown",
   "metadata": {},
   "source": [
    "### Create idomain and starting head data\n",
    "Replicate the idomain from the working grid (= 1 layer) to the other layers. The starting heads are equal in each column and determined from the topology"
   ]
  },
  {
   "cell_type": "code",
   "execution_count": null,
   "metadata": {},
   "outputs": [],
   "source": [
    "idomain = np.array([working_grid.idomain[0, :, :].copy() for k in range(nlay)])\n",
    "strt = np.array([top_wg.copy() for k in range(nlay)], dtype=float)"
   ]
  },
  {
   "cell_type": "markdown",
   "metadata": {},
   "source": [
    "### Recharge data for the mountains and the valley\n",
    "Here we use a KDTree technique to set up two sources of recharge: one with clean mountain water and the other with potentially contaminated valley water."
   ]
  },
  {
   "cell_type": "code",
   "execution_count": null,
   "metadata": {},
   "outputs": [],
   "source": [
    "from scipy.spatial import KDTree\n",
    "\n",
    "# get grid x and y\n",
    "grid_xx = working_grid.xcellcenters\n",
    "grid_yy = working_grid.ycellcenters\n",
    "\n",
    "# the river x and y from the indexes\n",
    "riv_idxs = np.array(cellids)\n",
    "riv_xx = grid_xx[riv_idxs[:,0],riv_idxs[:,1]]\n",
    "riv_yy = grid_yy[riv_idxs[:,0],riv_idxs[:,1]]\n",
    "\n",
    "# stack 2 arrays into single array of 2D coordinates\n",
    "river_xy = np.column_stack((riv_xx, riv_yy))\n",
    "grid_xy = np.column_stack((grid_xx.ravel(), grid_yy.ravel()))\n",
    "\n",
    "grid_xy[:3], river_xy[-3:]"
   ]
  },
  {
   "cell_type": "markdown",
   "metadata": {},
   "source": [
    "Now we create a KDTree from the river coordinates and then query with all grid coordinates for their closest distance to a river:"
   ]
  },
  {
   "cell_type": "code",
   "execution_count": null,
   "metadata": {},
   "outputs": [],
   "source": [
    "tree = KDTree(river_xy)\n",
    "distance, index = tree.query(grid_xy)\n",
    "\n",
    "index2d = index.reshape(nrow, ncol)\n",
    "distance2d = distance.reshape(nrow, ncol)"
   ]
  },
  {
   "cell_type": "markdown",
   "metadata": {},
   "source": [
    "Plot the result"
   ]
  },
  {
   "cell_type": "code",
   "execution_count": null,
   "metadata": {},
   "outputs": [],
   "source": [
    "# cut on the distance to the closest RIV element to discriminate valley and mountain water\n",
    "dist_from_riv = 10000.0"
   ]
  },
  {
   "cell_type": "code",
   "execution_count": null,
   "metadata": {},
   "outputs": [],
   "source": [
    "d2d_copy = distance2d.copy()\n",
    "d2d_copy[d2d_copy < dist_from_riv] = 0.0\n",
    "plt.imshow(d2d_copy)\n",
    "plt.colorbar(shrink=0.6)"
   ]
  },
  {
   "cell_type": "markdown",
   "metadata": {},
   "source": [
    "Generate the cell indexes for the mountain recharge (away from rivers) and valley recharge (near rivers) "
   ]
  },
  {
   "cell_type": "code",
   "execution_count": null,
   "metadata": {},
   "outputs": [],
   "source": [
    "# numpy.nonzero: Return the indices of the elements that are non-zero.\n",
    "mountain_array = np.asarray(distance2d > dist_from_riv).nonzero()\n",
    "mountain_idxs = np.array(list(zip(mountain_array[0], mountain_array[1])))\n",
    "\n",
    "valley_array = np.asarray(distance2d <= dist_from_riv).nonzero()\n",
    "valley_idxs = np.array(list(zip(valley_array[0], valley_array[1])))"
   ]
  },
  {
   "cell_type": "markdown",
   "metadata": {},
   "source": [
    "Both sources will have equal rates but are coupled to different tracers (GWT model)"
   ]
  },
  {
   "cell_type": "code",
   "execution_count": null,
   "metadata": {},
   "outputs": [],
   "source": [
    "max_recharge = 0.0001\n",
    "rch_orig = max_recharge * np.ones((nrow, ncol))\n",
    "\n",
    "# mountain recharge\n",
    "rch_mnt = np.zeros((nrow, ncol))\n",
    "for idx in mountain_idxs:\n",
    "  rch_mnt[idx[0], idx[1]] = max_recharge\n",
    "\n",
    "# valley recharge\n",
    "rch_val = np.zeros((nrow, ncol))\n",
    "for idx in valley_idxs:\n",
    "  rch_val[idx[0], idx[1]] = max_recharge"
   ]
  },
  {
   "cell_type": "markdown",
   "metadata": {},
   "source": [
    "## Build the FloPy simulation"
   ]
  },
  {
   "cell_type": "code",
   "execution_count": null,
   "metadata": {},
   "outputs": [],
   "source": [
    "sim = flopy.mf6.MFSimulation(\n",
    "    sim_ws=model_dir,\n",
    "    exe_name=\"mf6\",\n",
    "    memory_print_option=\"summary\",\n",
    ")"
   ]
  },
  {
   "cell_type": "markdown",
   "metadata": {},
   "source": [
    "### Set up time discretization TDIS data"
   ]
  },
  {
   "cell_type": "code",
   "execution_count": null,
   "metadata": {},
   "outputs": [],
   "source": [
    "nper = 10\n",
    "nsteps = 1\n",
    "year = 365.25 # days\n",
    "dt = 1000 * year\n",
    "tdis = flopy.mf6.ModflowTdis(sim, \n",
    "                             nper=nper, \n",
    "                             perioddata=nper * [(nsteps*dt, nsteps, 1.0)])"
   ]
  },
  {
   "cell_type": "markdown",
   "metadata": {},
   "source": [
    "### Setup the groundwater flow (GWF) model"
   ]
  },
  {
   "cell_type": "code",
   "execution_count": null,
   "metadata": {},
   "outputs": [],
   "source": [
    "gwfname = \"gwf\"\n",
    "\n",
    "imsgwf = flopy.mf6.ModflowIms(\n",
    "    sim,\n",
    "    complexity=\"simple\",\n",
    "    print_option=\"SUMMARY\",\n",
    "    linear_acceleration=\"bicgstab\",\n",
    "    outer_maximum=1000,\n",
    "    inner_maximum=100,\n",
    "    outer_dvclose=1e-4,\n",
    "    inner_dvclose=1e-5,\n",
    "    filename=f\"{gwfname}.ims\",\n",
    ")\n",
    "\n",
    "gwf = flopy.mf6.ModflowGwf(\n",
    "    sim,\n",
    "    modelname=gwfname,\n",
    "    print_input=False,\n",
    "    save_flows=True,\n",
    "    newtonoptions=\"NEWTON UNDER_RELAXATION\",\n",
    ")\n",
    "\n",
    "dis = flopy.mf6.ModflowGwfdis(\n",
    "    gwf,\n",
    "    nlay=nlay,\n",
    "    nrow=nrow,\n",
    "    ncol=ncol,\n",
    "    delr=dx,\n",
    "    delc=dy,\n",
    "    idomain=idomain,\n",
    "    top=top_wg,\n",
    "    botm=botm,\n",
    "    xorigin=0.0,\n",
    "    yorigin=0.0,\n",
    ")\n",
    "\n",
    "ic = flopy.mf6.ModflowGwfic(gwf, strt=strt)\n",
    "npf = flopy.mf6.ModflowGwfnpf(\n",
    "    gwf,\n",
    "    save_specific_discharge=True,\n",
    "    icelltype=1,\n",
    "    k=hk,\n",
    ")\n",
    "# storage\n",
    "sto = flopy.mf6.ModflowGwfsto(\n",
    "    gwf,\n",
    "    save_flows=True,\n",
    "    iconvert=1,\n",
    "    ss=0.00001,\n",
    "    sy=0.35,\n",
    "    steady_state={0: True},\n",
    "    transient={1 : True},\n",
    ")\n",
    "\n",
    "rch = flopy.mf6.ModflowGwfrcha(\n",
    "    gwf,\n",
    "    pname=\"rch_original\",\n",
    "    recharge={0 : rch_orig, 1 : 0.0},\n",
    "    filename=\"gwf_original.rch\",\n",
    ")\n",
    "\n",
    "rch = flopy.mf6.ModflowGwfrcha(\n",
    "    gwf,\n",
    "    pname=\"rch_mountain\",\n",
    "    recharge={1 : rch_mnt},\n",
    "    auxiliary=\"CONCENTRATION\",\n",
    "    aux={1 : 1.0},\n",
    "    filename=\"gwf_mountain.rch\",\n",
    ")\n",
    "\n",
    "rch = flopy.mf6.ModflowGwfrcha(\n",
    "    gwf,\n",
    "    pname=\"rch_valley\",\n",
    "    recharge={1 : rch_val},\n",
    "    auxiliary=\"CONCENTRATION\",\n",
    "    aux={1 : 1.0},\n",
    "    filename=\"gwf_valley.rch\",\n",
    ")\n",
    "\n",
    "drn = flopy.mf6.ModflowGwfdrn(\n",
    "    gwf,\n",
    "    stress_period_data=drn_data,\n",
    "    pname=\"river\",\n",
    "    filename=f\"{gwfname}_riv.drn\",\n",
    ")\n",
    "drn_gwd = flopy.mf6.ModflowGwfdrn(\n",
    "    gwf,\n",
    "    auxiliary=[\"depth\"],\n",
    "    auxdepthname=\"depth\",\n",
    "    stress_period_data=gw_discharge_data,\n",
    "    pname=\"gwd\",\n",
    "    filename=f\"{gwfname}_gwd.drn\",\n",
    ")\n",
    "\n",
    "oc = flopy.mf6.ModflowGwfoc(\n",
    "    gwf,\n",
    "    head_filerecord=f\"{gwf.name}.hds\",\n",
    "    budget_filerecord=f\"{gwf.name}.cbc\",\n",
    "    saverecord=[(\"HEAD\", \"ALL\"), (\"BUDGET\", \"ALL\")],\n",
    "    printrecord=[(\"BUDGET\", \"ALL\")],\n",
    ")\n",
    "\n",
    "sim.register_ims_package(imsgwf, [gwf.name])"
   ]
  },
  {
   "cell_type": "markdown",
   "metadata": {},
   "source": [
    "### Setup two groundwater transport models"
   ]
  },
  {
   "cell_type": "code",
   "execution_count": null,
   "metadata": {},
   "outputs": [],
   "source": [
    "conc_start = 0.0\n",
    "\n",
    "diffc = 0.0\n",
    "alphal = 0.1\n",
    "\n",
    "porosity = 0.35"
   ]
  },
  {
   "cell_type": "code",
   "execution_count": null,
   "metadata": {},
   "outputs": [],
   "source": [
    "def build_gwt_model(sim, gwtname, rch_package):\n",
    "\n",
    "    gwt = flopy.mf6.ModflowGwt(\n",
    "        sim,\n",
    "        modelname=gwtname,\n",
    "        print_input=False,\n",
    "        save_flows=True,\n",
    "    )\n",
    "\n",
    "    dis = flopy.mf6.ModflowGwtdis(\n",
    "        gwt,\n",
    "        nlay=nlay,\n",
    "        nrow=nrow,\n",
    "        ncol=ncol,\n",
    "        delr=dx,\n",
    "        delc=dy,\n",
    "        idomain=idomain,\n",
    "        top=top_wg,\n",
    "        botm=botm,\n",
    "        xorigin=0.0,\n",
    "        yorigin=0.0,\n",
    "    )\n",
    "\n",
    "    # initial conditions\n",
    "    ic = flopy.mf6.ModflowGwtic(gwt, strt=conc_start, filename=f\"{gwtname}.ic\")\n",
    "\n",
    "    # advection\n",
    "    adv = flopy.mf6.ModflowGwtadv(gwt, scheme=\"tvd\", filename=f\"{gwtname}.adv\")\n",
    "\n",
    "    # dispersion\n",
    "    dsp = flopy.mf6.ModflowGwtdsp(\n",
    "        gwt,\n",
    "        diffc=diffc,\n",
    "        alh=alphal,\n",
    "        alv=alphal,\n",
    "        ath1=0.0,\n",
    "        atv=0.0,\n",
    "        filename=f\"{gwtname}.dsp\",\n",
    "    )\n",
    "\n",
    "    # mass storage and transfer\n",
    "    mst = flopy.mf6.ModflowGwtmst(\n",
    "        gwt, \n",
    "        porosity=porosity,\n",
    "        filename=f\"{gwtname}.mst\"\n",
    "    )\n",
    "\n",
    "    # sources\n",
    "    sourcerecarray = [\n",
    "        (rch_package, \"AUX\", \"CONCENTRATION\"),\n",
    "    ]\n",
    "    ssm = flopy.mf6.ModflowGwtssm(\n",
    "        gwt, sources=sourcerecarray, filename=f\"{gwtname}.ssm\"\n",
    "    )\n",
    "\n",
    "    # output control\n",
    "    oc = flopy.mf6.ModflowGwtoc(\n",
    "            gwt,\n",
    "            budget_filerecord=f\"{gwtname}.cbc\",\n",
    "            concentration_filerecord=f\"{gwtname}.ucn\",\n",
    "            saverecord=[(\"CONCENTRATION\", \"ALL\"), (\"BUDGET\", \"ALL\")],\n",
    "        )\n",
    "    \n",
    "    return gwt"
   ]
  },
  {
   "cell_type": "code",
   "execution_count": null,
   "metadata": {},
   "outputs": [],
   "source": [
    "imsgwt = flopy.mf6.ModflowIms(\n",
    "        sim,\n",
    "        complexity=\"complex\",\n",
    "        print_option=\"SUMMARY\",\n",
    "        linear_acceleration=\"bicgstab\",\n",
    "        outer_maximum=1000,\n",
    "        inner_maximum=100,\n",
    "        outer_dvclose=1e-4,\n",
    "        inner_dvclose=1e-5,\n",
    "        # under_relaxation_kappa=0.001,\n",
    "        filename=f\"gwt.ims\",\n",
    "    )\n",
    "\n",
    "gwt_mnt = build_gwt_model(sim, \"gwt_mnt\", \"rch_mountain\")\n",
    "sim.register_ims_package(imsgwt, [gwt_mnt.name])\n",
    "\n",
    "gwt_val = build_gwt_model(sim, \"gwt_val\", \"rch_valley\")\n",
    "sim.register_ims_package(imsgwt, [gwt_val.name])"
   ]
  },
  {
   "cell_type": "markdown",
   "metadata": {},
   "source": [
    "### The GWF-GWT exchanges"
   ]
  },
  {
   "cell_type": "code",
   "execution_count": null,
   "metadata": {},
   "outputs": [],
   "source": [
    "gwfgwt = flopy.mf6.ModflowGwfgwt(\n",
    "    sim,\n",
    "    exgtype=\"GWF6-GWT6\",\n",
    "    exgmnamea=gwfname,\n",
    "    exgmnameb=gwt_mnt.name,\n",
    "    filename=\"gwfgwt_mnt.exg\",\n",
    ")\n",
    "\n",
    "gwfgwt = flopy.mf6.ModflowGwfgwt(\n",
    "    sim,\n",
    "    exgtype=\"GWF6-GWT6\",\n",
    "    exgmnamea=gwfname,\n",
    "    exgmnameb=gwt_val.name,\n",
    "    filename=\"gwfgwt_val.exg\",\n",
    ")\n"
   ]
  },
  {
   "cell_type": "markdown",
   "metadata": {},
   "source": [
    "### Count the number of active cells\n",
    "This should give you an idea of the parallel performance of the model. Large models have better parallel performance."
   ]
  },
  {
   "cell_type": "code",
   "execution_count": null,
   "metadata": {},
   "outputs": [],
   "source": [
    "ncells, nactive = get_simulation_cell_count(sim)\n",
    "print(\"nr. of cells:\", ncells, \", active:\", nactive)"
   ]
  },
  {
   "cell_type": "markdown",
   "metadata": {},
   "source": [
    "### Write the model files"
   ]
  },
  {
   "cell_type": "code",
   "execution_count": null,
   "metadata": {},
   "outputs": [],
   "source": [
    "sim.write_simulation()"
   ]
  },
  {
   "cell_type": "markdown",
   "metadata": {},
   "source": [
    "### Run the model\n",
    "\n",
    "(NB: passing in the 'processors=1' argument here forces MODFLOW to use the PETSc parallel solver)"
   ]
  },
  {
   "cell_type": "code",
   "execution_count": null,
   "metadata": {},
   "outputs": [],
   "source": [
    "sim.run_simulation(processors=1)"
   ]
  },
  {
   "cell_type": "markdown",
   "metadata": {},
   "source": [
    "### Plot Conductivities"
   ]
  },
  {
   "cell_type": "code",
   "execution_count": null,
   "metadata": {},
   "outputs": [],
   "source": [
    "fig = plt.figure(figsize=(10,8))\n",
    "\n",
    "ax = plt.subplot(2,1,1)\n",
    "pxs = flopy.plot.PlotCrossSection(model=gwf, line={\"row\": 20})\n",
    "pa = pxs.plot_array(np.log10(hk))\n",
    "pxs.plot_ibound(color_noflow=\"lightgrey\")\n",
    "pxs.plot_grid()\n",
    "\n",
    "cb = plt.colorbar(pa)\n",
    "cb.set_label(\"log(K)\")\n",
    "plt.title(\"conductivities (x-z)\")\n",
    "\n",
    "ax = plt.subplot(2,1,2)\n",
    "pxs = flopy.plot.PlotCrossSection(model=gwf, line={\"column\": 25})\n",
    "pa = pxs.plot_array(np.log10(hk))\n",
    "pxs.plot_ibound(color_noflow=\"lightgrey\")\n",
    "pxs.plot_grid()\n",
    "\n",
    "cb = plt.colorbar(pa)\n",
    "cb.set_label(\"log(K)\")\n",
    "plt.title(\"conductivities (y-z)\")\n"
   ]
  },
  {
   "cell_type": "markdown",
   "metadata": {},
   "source": [
    "### Plot Results"
   ]
  },
  {
   "cell_type": "code",
   "execution_count": null,
   "metadata": {},
   "outputs": [],
   "source": [
    "times = gwf.output.head().get_times()\n",
    "base_head = np.squeeze(gwf.output.head().get_data(totim=times[-1]))"
   ]
  },
  {
   "cell_type": "code",
   "execution_count": null,
   "metadata": {},
   "outputs": [],
   "source": [
    "fig = plt.figure(figsize=(8,4))\n",
    "pmv = flopy.plot.PlotMapView(model=gwf, layer=0)\n",
    "pa = pmv.plot_array(base_head)\n",
    "\n",
    "# draw rivers\n",
    "for sg in sgs:\n",
    "    sa = np.array(sg)\n",
    "    pmv.ax.plot(sa[:, 0], sa[:, 1], \"b-\")\n",
    "\n",
    "# indicate cross sections (used further down)\n",
    "xs_row = 20\n",
    "xs_col = 42\n",
    "xmin, xmax = pmv.ax.get_xlim()\n",
    "ymin, ymax = pmv.ax.get_ylim()\n",
    "plt.hlines(gwf.modelgrid.ycellcenters[xs_row][0],\n",
    "           xmin, xmax, color=\"red\", linestyles=\"dotted\")\n",
    "plt.vlines(gwf.modelgrid.xcellcenters[0][xs_col], \n",
    "           ymin, ymax, color=\"red\", linestyles=\"dotted\")\n",
    "\n",
    "plt.colorbar(pa)\n",
    "\n",
    "gwf.modelgrid.ycellcenters[xs_row][0], "
   ]
  },
  {
   "cell_type": "code",
   "execution_count": null,
   "metadata": {},
   "outputs": [],
   "source": [
    "plt.figure(figsize=(10,4))\n",
    "pxs = flopy.plot.PlotCrossSection(model=gwf, line={\"row\": 20})\n",
    "pa = pxs.plot_array(base_head)\n",
    "pxs.plot_ibound(color_noflow=\"lightgrey\")\n",
    "pxs.plot_grid()\n",
    "\n",
    "spdis = gwf.output.budget().get_data(text=\"DATA-SPDIS\", totim=times[-1])[0]\n",
    "nodes = nlay * nrow * ncol\n",
    "qx = np.ones((nodes), dtype=float) * 1.0e30\n",
    "qy = np.ones((nodes), dtype=float) * 1.0e30\n",
    "qz = np.ones((nodes), dtype=float) * 1.0e30\n",
    "n0 = spdis[\"node\"] - 1\n",
    "qx[n0] = spdis[\"qx\"]\n",
    "qy[n0] = spdis[\"qy\"]\n",
    "qz[n0] = spdis[\"qz\"]\n",
    "qx = qx.reshape(nlay, nrow, ncol)\n",
    "qy = qy.reshape(nlay, nrow, ncol)\n",
    "qz = qz.reshape(nlay, nrow, ncol)\n",
    "qx = np.ma.masked_equal(qx, 1.0e30)\n",
    "qy = np.ma.masked_equal(qy, 1.0e30)\n",
    "qz = np.ma.masked_equal(qz, 1.0e30)\n",
    "pxs.plot_vector(qx, qy, qz, normalize=True)\n",
    "\n",
    "plt.title(\"Head and *normalized* specific discharge\")\n",
    "plt.colorbar(pa)"
   ]
  },
  {
   "cell_type": "code",
   "execution_count": null,
   "metadata": {},
   "outputs": [],
   "source": [
    "t = times[-1]\n",
    "gwt_mnt = sim.get_model(model_name=\"gwt_mnt\")\n",
    "conc_mnt = np.squeeze(gwt_mnt.output.concentration().get_data(totim=t))\n",
    "gwt_val = sim.get_model(model_name=\"gwt_val\")\n",
    "conc_val = np.squeeze(gwt_val.output.concentration().get_data(totim=t))\n",
    "conc_orig = 1.0 - conc_mnt - conc_val\n",
    "conc_orig[conc_orig == -1e+30] = 1.e+30\n",
    "\n",
    "fig = plt.figure(figsize=(14,8))\n",
    "fig.suptitle(f\"Distribution after {int(t/365.25)} years\")\n",
    "\n",
    "plt.subplot(2,2,1)\n",
    "pxs = flopy.plot.PlotCrossSection(model=gwt_mnt, line={\"row\": xs_row})\n",
    "pa = pxs.plot_array(conc_mnt, vmin=0.0, vmax=1.0)\n",
    "pxs.plot_ibound(color_noflow=\"lightgrey\")\n",
    "pxs.plot_grid()\n",
    "plt.title(f\"Mountain water (y = {grid_yy[xs_row,0]})\")\n",
    "plt.colorbar(pa, shrink=1.0)\n",
    "\n",
    "plt.subplot(2,2,2)\n",
    "pxs = flopy.plot.PlotCrossSection(model=gwt_mnt, line={\"column\": xs_col})\n",
    "pa = pxs.plot_array(conc_mnt, vmin=0.0, vmax=1.0)\n",
    "pxs.plot_ibound(color_noflow=\"lightgrey\")\n",
    "pxs.plot_grid()\n",
    "plt.title(f\"Mountain water (x = {grid_xx[0,xs_col]})\")\n",
    "plt.colorbar(pa, shrink=1.0)\n",
    "\n",
    "plt.subplot(2,2,3)\n",
    "pxs = flopy.plot.PlotCrossSection(model=gwt_val, line={\"row\": xs_row})\n",
    "pa = pxs.plot_array(conc_val, vmin=0.0, vmax=1.0)\n",
    "pxs.plot_ibound(color_noflow=\"lightgrey\")\n",
    "pxs.plot_grid()\n",
    "plt.title(\"Valley water\")\n",
    "plt.colorbar(pa, shrink=1.0)\n",
    "\n",
    "plt.subplot(2,2,4)\n",
    "pxs = flopy.plot.PlotCrossSection(model=gwt_mnt, line={\"column\": xs_col})\n",
    "pa = pxs.plot_array(conc_val, vmin=0.0, vmax=1.0)\n",
    "pxs.plot_ibound(color_noflow=\"lightgrey\")\n",
    "pxs.plot_grid()\n",
    "plt.title(\"Valley water\")\n",
    "plt.colorbar(pa, shrink=1.0)"
   ]
  },
  {
   "cell_type": "code",
   "execution_count": null,
   "metadata": {},
   "outputs": [],
   "source": [
    "fig = plt.figure(figsize=(14,8))\n",
    "fig.suptitle(\"Distribution of mountain water over time\")\n",
    "\n",
    "gwt_mnt = sim.get_model(model_name=\"gwt_mnt\")\n",
    "\n",
    "times = gwt_mnt.output.concentration().get_times()\n",
    "plt_idxs = [0, 1, 4, 9]\n",
    "\n",
    "for idx, plt_idx in enumerate(plt_idxs):\n",
    "  t = times[plt_idxs[idx]]\n",
    "  ax = plt.subplot(2, 2, idx + 1)\n",
    "  pxs = flopy.plot.PlotCrossSection(model=gwt_mnt, line={\"row\": xs_row})\n",
    "  conc = np.squeeze(gwt_mnt.output.concentration().get_data(totim=t))\n",
    "  pa = pxs.plot_array(conc, vmin=0.0, vmax=1.0)\n",
    "\n",
    "  ax.set_title(f\"t = {int(t/365.25)} years\")\n",
    "\n",
    "  pxs.plot_ibound(color_noflow=\"lightgrey\")\n",
    "  pxs.plot_grid()\n",
    "\n",
    "  plt.colorbar(pa, shrink=1.0)"
   ]
  },
  {
   "cell_type": "code",
   "execution_count": null,
   "metadata": {},
   "outputs": [],
   "source": [
    "gwf = sim.get_model(gwfname)\n",
    "gwf.export_netcdf = \"EXPORT_NETCDF UGRID\"\n",
    "\n",
    "tdis = sim.get_package(\"tdis\")\n",
    "tdis.start_date_time = \"1980-01-01\""
   ]
  },
  {
   "cell_type": "code",
   "execution_count": null,
   "metadata": {},
   "outputs": [],
   "source": [
    "split_dir = \"simsplit\"\n",
    "splitter = flopy.mf6.utils.Mf6Splitter(sim)\n",
    "split_mask = splitter.optimize_splitting_mask(nparts=2)\n",
    "split_sim = splitter.split_multi_model(split_mask)\n",
    "split_sim.set_sim_path(split_dir)\n",
    "split_sim.write_simulation()\n",
    "\n",
    "splitter.save_node_mapping(split_dir + \"/\" + \"mfsplit_node_mapping.json\")"
   ]
  },
  {
   "cell_type": "code",
   "execution_count": null,
   "metadata": {},
   "outputs": [],
   "source": [
    "split_sim.run_simulation(processors=2)"
   ]
  },
  {
   "cell_type": "markdown",
   "metadata": {},
   "source": [
    "### Using NetCDF and `xugrid`"
   ]
  },
  {
   "cell_type": "code",
   "execution_count": null,
   "metadata": {},
   "outputs": [],
   "source": [
    "import xugrid as xu\n",
    "\n",
    "fpth = os.path.join(split_dir, \"gwf_0.nc\")\n",
    "nc_ds0 = xu.open_dataset(fpth)\n",
    "fpth = os.path.join(split_dir, \"gwf_1.nc\")\n",
    "nc_ds1 = xu.open_dataset(fpth)\n",
    "nc_ds1"
   ]
  },
  {
   "cell_type": "code",
   "execution_count": null,
   "metadata": {},
   "outputs": [],
   "source": [
    "args = {\"vmin\" : 0.0, \"vmax\" : 110.0}\n",
    "var_name = \"head_l1\" # \n",
    "\n",
    "plt.figure(figsize=(14,5))\n",
    "plt.subplot(1, 2, 1)\n",
    "nc_ds1[var_name].isel(time=-1).ugrid.plot(**args)\n",
    "\n",
    "plt.subplot(1, 2, 2)\n",
    "nc_ds0[var_name].isel(time=-1).ugrid.plot(**args)"
   ]
  },
  {
   "cell_type": "code",
   "execution_count": null,
   "metadata": {},
   "outputs": [],
   "source": [
    "partitions = []\n",
    "for ds in [nc_ds0, nc_ds1]:\n",
    "    keep = ds[\"head_l1\"].isel(time=-1).notnull()\n",
    "    partitions.append(ds[\"head_l1\"].isel(time=-1).where(keep, drop=True))\n",
    "\n",
    "nc_merge = xu.merge_partitions(partitions)"
   ]
  },
  {
   "cell_type": "code",
   "execution_count": null,
   "metadata": {},
   "outputs": [],
   "source": [
    "plt.figure(figsize=(8,4))\n",
    "nc_merge[\"head_l1\"].ugrid.plot(**args)"
   ]
  },
  {
   "cell_type": "code",
   "execution_count": null,
   "metadata": {},
   "outputs": [],
   "source": []
  }
 ],
 "metadata": {
  "kernelspec": {
   "display_name": "Python 3",
   "language": "python",
   "name": "python3"
  },
  "language_info": {
   "codemirror_mode": {
    "name": "ipython",
    "version": 3
   },
   "file_extension": ".py",
   "mimetype": "text/x-python",
   "name": "python",
   "nbconvert_exporter": "python",
   "pygments_lexer": "ipython3",
   "version": "3.12.3"
  }
 },
 "nbformat": 4,
 "nbformat_minor": 4
}
