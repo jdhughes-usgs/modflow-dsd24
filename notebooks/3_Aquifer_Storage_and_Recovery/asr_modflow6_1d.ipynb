{
 "cells": [
  {
   "cell_type": "markdown",
   "metadata": {},
   "source": [
    "# One-Dimensional linear Aquifer Storage and Recovery.\n",
    "\n",
    "In this notebook, we will learn how to:\n",
    "1. Setup a MODFLOW 6 model for one-dimensional flow and transport.\n",
    "2. Simulate injection of freshwater in a saltwater aquifer (no buoyancy)\n",
    "3. Visualize the output and assess numerical dispersion\n",
    "4. Simulate both injection and recovery of freshwater in a saltwater aquifer\n",
    "5. Compute the recovery efficiency"
   ]
  },
  {
   "cell_type": "code",
   "execution_count": null,
   "metadata": {},
   "outputs": [],
   "source": [
    "# import the necessary packages\n",
    "import numpy as np\n",
    "import matplotlib.pyplot as plt\n",
    "plt.rcParams['figure.figsize'] = (5, 3) # set default figure size\n",
    "import flopy as fp  # import flopy and call it fp"
   ]
  },
  {
   "cell_type": "markdown",
   "metadata": {},
   "source": [
    "## Description of the flow problem\n",
    "Consider one-dimensional flow in a semi-infinite confined aquifer. The aquifer extends from $x=0$ to $x=L$ in the $x$ direction, where $L$ is chosen far enough away not to effect the flow solution.  Water is injected at the left side at a rate $U$ such that the average velocity in the aquifer is 1 m/d. The head is fixed on the right side to $h_R$. Flow is considered to be at steady state instantaneously. The model consists of 5 layers of the same thickness and hydraulic conductivity. Injection is equally distributed across the layers.\n",
    "\n",
    "The initial salt concentration is equal to $c_s$ everywhere. Injection of fresh water with concentration $c_f$ starts at $t=0$ and lasts for $t_\\text{in}$ days."
   ]
  },
  {
   "cell_type": "markdown",
   "metadata": {},
   "source": [
    "### Parameters"
   ]
  },
  {
   "cell_type": "code",
   "execution_count": null,
   "metadata": {},
   "outputs": [],
   "source": [
    "# domain size and boundary conditions\n",
    "L = 80 # length of domain, m\n",
    "hR = 0 # head at right side of domain\n",
    "\n",
    "# aquifer parameters\n",
    "k = 20 # hydraulic conductivity, m/d\n",
    "H = 20 # aquifer thickness, m\n",
    "npor = 0.25 # porosity, -\n",
    "\n",
    "# flow\n",
    "vavg = 1 # average velocity, m/d\n",
    "U = vavg * npor * H # computed total inflow, m^2/d\n",
    "\n",
    "# transport\n",
    "alphaL = 0.1 # longitudinal dispersivity in horizontal direction, m\n",
    "alphaT = alphaL / 10 # transverse dispersivity is 10 times smaller than longitudinal, m\n",
    "diffusion_coef = 0 # diffusion is not modeled\n",
    "\n",
    "# concentration\n",
    "cs = 1 # initial concentration, kg/m^3 (=g/L)\n",
    "cf = 0 # concentration injected water, kg/m^3 (=g/L)\n",
    "\n",
    "# space discretization\n",
    "delr = 0.5 # length of cell along row (in x-direction), m\n",
    "delc = 1 # width of cells normal to plane of flow (in y-direction), m\n",
    "nlay = 5 # number of layers\n",
    "nrow = 1 # number of rows\n",
    "ncol = round(L / delr) # number of columns, integer\n",
    "z = np.linspace(0, -H, nlay + 1) # top and bottom(s) of layers\n",
    "xg = np.cumsum(delr * np.ones(ncol)) - delr / 2 # x-values centers of grid cells, m\n",
    "zc = 0.5 * (z[:-1] + z[1:]) # z-values centers of grid cells, m\n",
    "\n",
    "# time and time discretization\n",
    "tin = 50 # injection time, d\n",
    "delt = 0.5 # time step, d\n",
    "nstepin = round(tin / delt) # computed number of steps during injection, integer\n",
    "\n",
    "# model name and workspace\n",
    "modelname = 'model1d' # name of model\n",
    "gwfname = modelname + 'f' # name of flow model\n",
    "gwtname = modelname + 't' # name of transport model\n",
    "modelws = './' + modelname # model workspace to be used (where MODFLOW will store all the files)"
   ]
  },
  {
   "cell_type": "code",
   "execution_count": null,
   "metadata": {
    "scrolled": true
   },
   "outputs": [],
   "source": [
    "# simulation\n",
    "sim = fp.mf6.MFSimulation(sim_name=modelname, # name of simulation\n",
    "                          version='mf6', # version of MODFLOW\n",
    "                          exe_name='mf6', # path to MODFLOW executable\n",
    "                          sim_ws=modelws, # path to workspace where all files are stored\n",
    "                         )\n",
    "\n",
    "# time discretization\n",
    "tdis = fp.mf6.ModflowTdis(simulation=sim, # add to the simulation called sim (defined above)\n",
    "                          time_units=\"DAYS\", \n",
    "                          nper=1, # number of stress periods \n",
    "                          perioddata=[[tin, nstepin, 1]], # period length, number of steps, timestep multiplier\n",
    "                         )"
   ]
  },
  {
   "cell_type": "markdown",
   "metadata": {},
   "source": [
    "## Create groundwater flow model (`gwf`)"
   ]
  },
  {
   "cell_type": "code",
   "execution_count": null,
   "metadata": {},
   "outputs": [],
   "source": [
    "# groundwater flow model\n",
    "gwf = fp.mf6.ModflowGwf(simulation=sim, # add to simulation called sim\n",
    "                        modelname=gwfname, # name of gwf model\n",
    "                        save_flows=True, # make sure all flows are stored in binary output file\n",
    "                       )\n",
    "\n",
    "# iterative model solver\n",
    "gwf_ims  = fp.mf6.ModflowIms(simulation=sim, # add to simulation called sim\n",
    "                             filename=gwf.name + '.ims', # file name to store ims\n",
    "                             linear_acceleration=\"BICGSTAB\", # use BIConjuGantGradientSTABalized method\n",
    "                            )                                                                                                \n",
    "# register solver\n",
    "sim.register_ims_package(solution_file=gwf_ims, # name of iterative model solver instance\n",
    "                         model_list=[gwf.name], # list with name of groundwater flow model\n",
    "                        )   \n",
    "\n",
    "# discretization\n",
    "gwf_dis = fp.mf6.ModflowGwfdis(model=gwf, # add to groundwater flow model called gwf\n",
    "                               nlay=nlay, \n",
    "                               nrow=nrow, \n",
    "                               ncol=ncol, \n",
    "                               delr=delr, \n",
    "                               delc=delc, \n",
    "                               top=z[0], \n",
    "                               botm=z[1:], \n",
    "                              )\n",
    "\n",
    "# aquifer properties\n",
    "gwf_npf  = fp.mf6.ModflowGwfnpf(model=gwf, \n",
    "                                k=k, # horizontal k value\n",
    "                                save_flows=True, # save the flow for all cells\n",
    "                               )\n",
    "    \n",
    "# initial condition\n",
    "gwf_ic = fp.mf6.ModflowGwfic(model=gwf, \n",
    "                             strt=hR, # initial head used for iterative solution\n",
    "                            )\n",
    "\n",
    "# wells\n",
    "wellin = []\n",
    "for ilay in range(nlay):\n",
    "    wellin.append([(ilay, 0, 0), U / nlay, cf]) # [(layer, row, col), U, concentration] during injection\n",
    "wel_spd = {0: wellin} # stress period data for periods 0 and 1\n",
    "gwf_wel = fp.mf6.ModflowGwfwel(model=gwf, \n",
    "                               stress_period_data=wel_spd, \n",
    "                               auxiliary=['CONCENTRATION'],\n",
    "                               pname='WEL1', # package name\n",
    "                              )\n",
    "\n",
    "# constant head \n",
    "chd0 = []\n",
    "for ilay in range(nlay):\n",
    "    chd0.append([(ilay, 0, ncol - 1), hR, cs]) # [(layer, row, col), head, concentration]\n",
    "chd_spd  = {0: chd0} # stress period data\n",
    "gwf_chd = fp.mf6.ModflowGwfchd(model=gwf, \n",
    "                               stress_period_data=chd_spd, \n",
    "                               auxiliary=['CONCENTRATION'],\n",
    "                               pname='CHD1', # package name\n",
    "                              )\n",
    "    \n",
    "# output control\n",
    "oc = fp.mf6.ModflowGwfoc(model=gwf, \n",
    "                         saverecord=[(\"HEAD\", \"ALL\"), (\"BUDGET\", \"ALL\")], # what to save\n",
    "                         budget_filerecord=f\"{gwfname}.cbc\", # file name where all budget output is stored\n",
    "                         head_filerecord=f\"{gwfname}.hds\", # file name where all head output is stored\n",
    "                        )"
   ]
  },
  {
   "cell_type": "markdown",
   "metadata": {},
   "source": [
    "## Create groundwater transport model (`gwt`)"
   ]
  },
  {
   "cell_type": "code",
   "execution_count": null,
   "metadata": {},
   "outputs": [],
   "source": [
    "# groundwater transport model\n",
    "gwt = fp.mf6.ModflowGwt(simulation=sim, \n",
    "                        modelname=gwtname, # name of groundwater transport model\n",
    "                       )\n",
    "\n",
    "# iterative model solver\n",
    "gwt_ims  = fp.mf6.ModflowIms(simulation=sim, # add to simulation\n",
    "                             filename=gwt.name + '.ims', # must be different than file name of gwf model ims\n",
    "                             linear_acceleration=\"BICGSTAB\",\n",
    "                            ) \n",
    "sim.register_ims_package(solution_file=gwt_ims, \n",
    "                         model_list=[gwt.name],\n",
    "                        )\n",
    "\n",
    "# discretization\n",
    "gwt_dis = fp.mf6.ModflowGwtdis(model=gwt, # add to gwt model\n",
    "                               nlay=nlay, \n",
    "                               nrow=nrow, \n",
    "                               ncol=ncol, \n",
    "                               delr=delr, \n",
    "                               delc=delc, \n",
    "                               top=z[0], \n",
    "                               botm=z[1:], \n",
    "                              )\n",
    "\n",
    "# mobile storage and transfer\n",
    "gwt_sto = fp.mf6.ModflowGwtmst(model=gwt, \n",
    "                               porosity=npor, # porosity\n",
    "                               save_flows=True,\n",
    "                              )\n",
    "\n",
    "# initial condition\n",
    "gwt_ic = fp.mf6.ModflowGwtic(model=gwt, \n",
    "                             strt=cs, # initial concentration\n",
    "                            ) \n",
    "\n",
    "# source sink mixing\n",
    "sourcelist = [(\"WEL1\", \"AUX\", \"CONCENTRATION\"), (\"CHD1\", \"AUX\", \"CONCENTRATION\")] # list of (pname, 'AUX', 'CONCENTRATION')\n",
    "ssm = fp.mf6.ModflowGwtssm(model=gwt, \n",
    "                           sources=sourcelist, \n",
    "                           save_flows=True,\n",
    "                           pname='SSM1', \n",
    "                          )\n",
    "\n",
    "# advection\n",
    "adv = fp.mf6.ModflowGwtadv(model=gwt,  \n",
    "                           scheme=\"upstream\", # use the upstream method\n",
    "                           pname='ADV1',\n",
    "                          )\n",
    "\n",
    "# dispersion\n",
    "dsp = fp.mf6.ModflowGwtdsp(model=gwt, \n",
    "                           alh=alphaL, # longitudinal dispersivity\n",
    "                           ath1=alphaT, # transverse dispersivity\n",
    "                           diffc=diffusion_coef, # diffusion coefficient\n",
    "                           pname='DSP1', \n",
    "                          )\n",
    "\n",
    "# output control\n",
    "oc = fp.mf6.ModflowGwtoc(model=gwt,\n",
    "                         saverecord=[(\"CONCENTRATION\", \"ALL\"), (\"BUDGET\", \"ALL\")], # what to save\n",
    "                         budget_filerecord=f\"{gwtname}.cbc\", # file name where all budget output is stored\n",
    "                         concentration_filerecord=f\"{gwtname}.ucn\", # file name where all concentration output is stored\n",
    "                        )"
   ]
  },
  {
   "cell_type": "markdown",
   "metadata": {},
   "source": [
    "Define the interaction between the groundwater flow model and the transport model and add it to the simulation."
   ]
  },
  {
   "cell_type": "code",
   "execution_count": null,
   "metadata": {},
   "outputs": [],
   "source": [
    "fp.mf6.ModflowGwfgwt(simulation=sim, \n",
    "                     exgtype=\"GWF6-GWT6\", \n",
    "                     exgmnamea=gwf.name, # name of groundwater flow model \n",
    "                     exgmnameb=gwt.name, # name of transport model\n",
    "                     filename=f\"{modelname}.gwfgwt\",\n",
    "                    );"
   ]
  },
  {
   "cell_type": "markdown",
   "metadata": {},
   "source": [
    "## Write input files and solve model"
   ]
  },
  {
   "cell_type": "code",
   "execution_count": null,
   "metadata": {},
   "outputs": [],
   "source": [
    "sim.write_simulation(silent=True)\n",
    "success, _ = sim.run_simulation(silent=True) \n",
    "if success == 1:\n",
    "    print('Model solved successfully')\n",
    "else:\n",
    "    print('Solve failed')"
   ]
  },
  {
   "cell_type": "markdown",
   "metadata": {},
   "source": [
    "## Read head data and make plot\n",
    "The head is steady (storage is not simulated), so it should be the same for all times. \n",
    "Injection is the same in all layers, so the head is also the same in all layers."
   ]
  },
  {
   "cell_type": "code",
   "execution_count": null,
   "metadata": {},
   "outputs": [],
   "source": [
    "hds = gwf.output.head() # get handle to binary head file\n",
    "head = hds.get_alldata().squeeze() # get all the head data from the file\n",
    "times = np.array(hds.get_times()) # get times and make it an array\n",
    "print(f'min, max head in model: {head.min():.2f}, {head[0].max():.2f} m')\n",
    "print(f'shape of head array (ntimes, nlay, ncol): {head.shape}')"
   ]
  },
  {
   "cell_type": "code",
   "execution_count": null,
   "metadata": {},
   "outputs": [],
   "source": [
    "plt.plot(xg, head[0, 0])\n",
    "plt.xlabel('x (m)')\n",
    "plt.ylabel('head (m)')\n",
    "plt.grid()"
   ]
  },
  {
   "cell_type": "markdown",
   "metadata": {},
   "source": [
    "## Read concentration data and make plot"
   ]
  },
  {
   "cell_type": "code",
   "execution_count": null,
   "metadata": {},
   "outputs": [],
   "source": [
    "cobj = gwt.output.concentration() # get handle to binary concentration file\n",
    "c = cobj.get_alldata().squeeze() # get the concentration data from the file\n",
    "times = np.array(cobj.get_times()) # get the times and convert to array"
   ]
  },
  {
   "cell_type": "code",
   "execution_count": null,
   "metadata": {},
   "outputs": [],
   "source": [
    "plt.subplot(111, xlim=(0, 80), ylim=(-20, 0), xlabel='x (m)', ylabel='z (m)', aspect=1)\n",
    "cset = plt.contour(xg, zc, c[10], np.arange(0.2, 1, 0.2), cmap='coolwarm')\n",
    "plt.colorbar(cset, shrink=0.35, aspect=4);"
   ]
  },
  {
   "cell_type": "code",
   "execution_count": null,
   "metadata": {},
   "outputs": [],
   "source": [
    "from ipywidgets import interact\n",
    "\n",
    "def contour(t=delt):\n",
    "    tstep = round(t / delt) - 1\n",
    "    plt.subplot(111, xlim=(0, 80), ylim=(-20, 0), xlabel='x (m)', ylabel='z (m)', aspect=1)\n",
    "    cset = plt.contour(xg, zc, c[tstep], np.arange(0.2, 1, 0.2), cmap='coolwarm')\n",
    "    plt.colorbar(cset, shrink=0.35, aspect=4)\n",
    "\n",
    "interact(contour, t=(delt, tin, delt));"
   ]
  },
  {
   "cell_type": "markdown",
   "metadata": {},
   "source": [
    "For this example, the concentration is the same in all layers, so we can simply plot the concentration vs. x. Below, the concentration is plotted vs. $x$ at 10 day intervals. Recall that in the absence of dispersion, the concentration line jumps abruptly from 0 to 1 g/L at the front of the injection, which is shown with the dashed colored lines (recall that the average velocity of the groundwater is 1 m/d for this case)."
   ]
  },
  {
   "cell_type": "code",
   "execution_count": null,
   "metadata": {},
   "outputs": [],
   "source": [
    "# plot concentration vs. x for three different times   \n",
    "plt.figure(figsize=(8, 2))\n",
    "for i, t in enumerate(np.arange(10, 51, 10)):\n",
    "    itime = np.abs(times - t).argmin() # find index of value in times closest to t\n",
    "    plt.plot(xg, c[itime, 0], 'C' + str(i), label=f't={times[itime]:.0f} d')\n",
    "    plt.axvline(t, color='C' + str(i), ls='--')\n",
    "plt.title('injection')\n",
    "plt.xlabel('x (m)')\n",
    "plt.ylabel('concentration (g/L)')\n",
    "plt.xlim(0, 80)\n",
    "plt.legend()\n",
    "plt.grid()"
   ]
  },
  {
   "cell_type": "markdown",
   "metadata": {},
   "source": [
    "### Mass balance\n",
    "The mass balance is computed by taking the difference between the total mass in the system at the end of the simulation and at the beginning of the simulation and comparing that to the total inflow minus the total outflow of mass. The mass in the system at the beginning of the simulation is\n",
    "\\begin{equation}\n",
    "M_\\text{begin} = c_snLH\n",
    "\\end{equation}\n",
    "where $c_s$ is the initial concentration, $n$ is the porosity, $L$ is the length of the domain, and $H$ is the aquifer thickness.\n",
    "The mass in the system at the end of the simulation is \n",
    "\\begin{equation}\n",
    "M_\\text{end} = \\sum c_i\\Delta_x n H\n",
    "\\end{equation}\n",
    "where $c_i$ is the concentration in cell $i$ and $\\Delta_x$ is the length of a cell (`delr` in MODFLOW).\n",
    "The mass inflow $M_\\text{inflow} = 0$ (as the concentration of the injected water equals 0) and the mass outflow of the system during time period $\\Delta_t$ is\n",
    "\\begin{equation}\n",
    "M_\\text{outflow} = Uc_s\\Delta_t\n",
    "\\end{equation}\n",
    "where it is assumed that the model domain is larger enough such that the concentration in the last cell remains equal to $c_s$."
   ]
  },
  {
   "cell_type": "code",
   "execution_count": null,
   "metadata": {},
   "outputs": [],
   "source": [
    "mass_end = np.sum(c[-1, 0] * delr * npor * H)\n",
    "mass_begin = cs * npor * L * H\n",
    "print(f'total change of mass: {mass_end - mass_begin:.2f} kg')"
   ]
  },
  {
   "cell_type": "code",
   "execution_count": null,
   "metadata": {},
   "outputs": [],
   "source": [
    "mass_inflow = 0\n",
    "mass_outflow = U * cs * tin\n",
    "print(f'total inflow of mass: {mass_inflow - mass_outflow:.2f} kg')"
   ]
  },
  {
   "cell_type": "markdown",
   "metadata": {},
   "source": [
    "### Compare to exact solution\n",
    "The exact solution for the stated problem is (Van Genuchten and Alves, 1982):\n",
    "\\begin{equation}\n",
    "c(x, t) = c_s + (c_f-c_s)\\left[\\frac{1}{2}\\text{erfc}\\left(\\frac{x-vt}{2\\sqrt{Dt}}\\right) + \n",
    "\\sqrt{\\frac{v^2t}{\\pi D}} \\exp\\left(\\frac{-(x-vt)^2}{4Dt}\\right) -\n",
    "\\frac{1}{2}\\left(1 + \\frac{vx}{D} + \\frac{v^2t}{D}\\right)\\exp\\left(\\frac{vx}{D}\\right)\n",
    "\\text{erfc}\\left(\\frac{x+vt}{2\\sqrt{Dt}}\\right)\\right]\n",
    "\\end{equation}\n",
    "where $D=\\alpha_Lv$ is the dispersion coefficient, $v$ is the average velocity, and $\\text{erfc}$ is the complimentary error function. "
   ]
  },
  {
   "cell_type": "code",
   "execution_count": null,
   "metadata": {},
   "outputs": [],
   "source": [
    "from scipy.special import erfc\n",
    "\n",
    "def c_exact(x, t, v, D, c0):\n",
    "    rv = 0.5 * erfc((x - v * t) / (2 * np.sqrt(D * t))) + \\\n",
    "         np.sqrt(v ** 2 * t / (np.pi * D)) * np.exp(-(x - v * t) ** 2 / (4 * D * t)) - \\\n",
    "         0.5 * (1 + v * x / D + v ** 2 * t / D) * np.exp(v * x / D) * \\\n",
    "         erfc((x + v * t) / (2 * np.sqrt(D * t)))\n",
    "    rv = np.nan_to_num(rv)\n",
    "    rv = c0 - c0 * rv\n",
    "    return rv"
   ]
  },
  {
   "cell_type": "code",
   "execution_count": null,
   "metadata": {},
   "outputs": [],
   "source": [
    "plt.figure(figsize=(8, 2))\n",
    "for t in np.arange(10, 51, 10):\n",
    "    itime = np.abs(times - t).argmin() # find index of value in times closest to t\n",
    "    plt.plot(xg, c[itime, 0], label=f't={times[itime]:.0f} d')\n",
    "    cex = c_exact(xg, t, vavg, alphaL, cs)\n",
    "    plt.plot(xg, cex, 'k')\n",
    "plt.xlabel('x (m)')\n",
    "plt.ylabel('concentration (g/L)')\n",
    "plt.xlim(0, 80)\n",
    "plt.legend()\n",
    "plt.title('colored: MODFLOW, black: Exact')\n",
    "plt.grid()"
   ]
  },
  {
   "cell_type": "markdown",
   "metadata": {},
   "source": [
    "### Exercise 1 Reduce numerical dispersion"
   ]
  },
  {
   "cell_type": "markdown",
   "metadata": {},
   "source": [
    "Let's try to reduce numerical dispersion. There are three easy options to try to reduce numerical dispersion:\n",
    "1. Use a more accurate solution approach for the advection part of the transport equation.\n",
    "2. Use smaller cells.\n",
    "3. Use smaller time steps.\n",
    "   \n",
    "We now specify the upstream scheme when solving the advection part of the transport equation in the `fp.mf6.ModflowGwtadv` class. A more accurate scheme is the `TVD` scheme. The cell size is already pretty small, but the time step can definitely be reduced. Use the Exercise1 notebook to determine accurate options that give an acceptable level of numerical dispersion. "
   ]
  },
  {
   "cell_type": "markdown",
   "metadata": {},
   "source": [
    "## Recovery phase\n",
    "After injection, the water is recovered again by pumping the water out. The extraction rate is chosen the same as the injection rate. \n",
    "The model now has two stress periods: injection during the first stress period and extraction during the second stress period. The following parameters are modified or added:"
   ]
  },
  {
   "cell_type": "code",
   "execution_count": null,
   "metadata": {},
   "outputs": [],
   "source": [
    "# time and time discretization\n",
    "tin = 50 # injection time, d\n",
    "delt = 0.5 # time step, d\n",
    "nstepin = round(tin / delt) # computed number of steps during injection, integer\n",
    "tout = 50 # extraction time, d\n",
    "delt = 0.5 # time step, d\n",
    "nstepout = round(tout / delt) # computed number of steps during extraction, integer"
   ]
  },
  {
   "cell_type": "markdown",
   "metadata": {},
   "source": [
    "The entire model (simulation, groundwater flow model, groundwater transport model and interaction) are gathered in one function. Inside the function, the model built and solved. The model takes no input arguments; all parameters are taken from the parameter blocks defined above. The function returns the computed concentration and corresponding times. Only two modifications need to be made to the simulation and groundwater flow model developed above; no changes need to be made to the groundwater transport model. The changes are:\n",
    "* The time discretization of the simulation is modified to reflect two stress periods.\n",
    "* The well package of the groundwater flow model is modified to simulate the injection and extraction rates as specified for the two stress periods."
   ]
  },
  {
   "cell_type": "code",
   "execution_count": null,
   "metadata": {},
   "outputs": [],
   "source": [
    "def asrmodel():\n",
    "    # simulation\n",
    "    sim = fp.mf6.MFSimulation(sim_name=modelname, # name of simulation\n",
    "                              version='mf6', # version of MODFLOW\n",
    "                              exe_name='mf6', # path to MODFLOW executable\n",
    "                              sim_ws=modelws, # path to workspace where all files are stored\n",
    "                             )\n",
    "    \n",
    "    # time discretization\n",
    "    tdis = fp.mf6.ModflowTdis(simulation=sim, # add to the simulation called sim (defined above)\n",
    "                              time_units=\"DAYS\", \n",
    "                              nper=2, # number of stress periods \n",
    "                              perioddata=[[tin, nstepin, 1], # period length, number of steps, timestep multiplier\n",
    "                                          [tout, nstepout, 1]], \n",
    "                             )\n",
    "    \n",
    "    # groundwater flow model\n",
    "    gwf = fp.mf6.ModflowGwf(simulation=sim, # add to simulation called sim\n",
    "                            modelname=gwfname, # name of gwf model\n",
    "                            save_flows=True, # make sure all flows are stored in binary output file\n",
    "                           )\n",
    "    \n",
    "    # iterative model solver\n",
    "    gwf_ims  = fp.mf6.ModflowIms(simulation=sim, # add to simulation called sim\n",
    "                                 filename=gwf.name + '.ims', # file name to store ims\n",
    "                                 linear_acceleration=\"BICGSTAB\", # use BIConjuGantGradientSTABalized method\n",
    "                                )                                                                                                \n",
    "    # register solver\n",
    "    sim.register_ims_package(solution_file=gwf_ims, # name of iterative model solver instance\n",
    "                             model_list=[gwf.name], # list with name of groundwater flow model\n",
    "                            )   \n",
    "    \n",
    "    # discretization\n",
    "    gwf_dis = fp.mf6.ModflowGwfdis(model=gwf, # add to groundwater flow model called gwf\n",
    "                                   nlay=nlay, \n",
    "                                   nrow=nrow, \n",
    "                                   ncol=ncol, \n",
    "                                   delr=delr, \n",
    "                                   delc=delc, \n",
    "                                   top=z[0], \n",
    "                                   botm=z[1:], \n",
    "                                  )\n",
    "    \n",
    "    # aquifer properties\n",
    "    gwf_npf  = fp.mf6.ModflowGwfnpf(model=gwf, \n",
    "                                    k=k, # horizontal k value\n",
    "                                    save_flows=True, # save the flow for all cells\n",
    "                                   )\n",
    "        \n",
    "    # initial condition\n",
    "    gwf_ic = fp.mf6.ModflowGwfic(model=gwf, \n",
    "                                 strt=hR, # initial head used for iterative solution\n",
    "                                )\n",
    "    \n",
    "    # wells\n",
    "    wellin = []\n",
    "    for ilay in range(nlay):\n",
    "        wellin.append([(ilay, 0, 0), U / nlay, cf]) # [(layer, row, col), U, concentration] during injection\n",
    "    wellout = []\n",
    "    for ilay in range(nlay):\n",
    "        wellout.append([(ilay, 0, 0), -U / nlay, cf]) # [(layer, row, col), U, concentration] during injection\n",
    "    wel_spd = {0: wellin, 1:wellout} # stress period data for periods 0 and 1\n",
    "    gwf_wel = fp.mf6.ModflowGwfwel(model=gwf, \n",
    "                                   stress_period_data=wel_spd, \n",
    "                                   auxiliary=['CONCENTRATION'],\n",
    "                                   pname='WEL1', # package name\n",
    "                                  )\n",
    "    \n",
    "    # constant head \n",
    "    chd0 = []\n",
    "    for ilay in range(nlay):\n",
    "        chd0.append([(ilay, 0, ncol - 1), hR, cs]) # [(layer, row, col), head, concentration]\n",
    "    chd_spd  = {0: chd0} # stress period data\n",
    "    gwf_chd = fp.mf6.ModflowGwfchd(model=gwf, \n",
    "                                   stress_period_data=chd_spd, \n",
    "                                   auxiliary=['CONCENTRATION'],\n",
    "                                   pname='CHD1', # package name\n",
    "                                  )\n",
    "        \n",
    "    # output control\n",
    "    oc = fp.mf6.ModflowGwfoc(model=gwf, \n",
    "                             saverecord=[(\"HEAD\", \"ALL\"), (\"BUDGET\", \"ALL\")], # what to save\n",
    "                             budget_filerecord=f\"{gwfname}.cbc\", # file name where all budget output is stored\n",
    "                             head_filerecord=f\"{gwfname}.hds\", # file name where all head output is stored\n",
    "                            )\n",
    "    \n",
    "    # groundwater transport model\n",
    "    gwt = fp.mf6.ModflowGwt(simulation=sim, \n",
    "                            modelname=gwtname, # name of groundwater transport model\n",
    "                           )\n",
    "    \n",
    "    # iterative model solver\n",
    "    gwt_ims  = fp.mf6.ModflowIms(simulation=sim, # add to simulation\n",
    "                                 filename=gwt.name + '.ims', # must be different than file name of gwf model ims\n",
    "                                 linear_acceleration=\"BICGSTAB\",\n",
    "                                ) \n",
    "    sim.register_ims_package(solution_file=gwt_ims, \n",
    "                             model_list=[gwt.name],\n",
    "                            )\n",
    "    \n",
    "    # discretization\n",
    "    gwt_dis = fp.mf6.ModflowGwtdis(model=gwt, # add to gwt model\n",
    "                                   nlay=nlay, \n",
    "                                   nrow=nrow, \n",
    "                                   ncol=ncol, \n",
    "                                   delr=delr, \n",
    "                                   delc=delc, \n",
    "                                   top=z[0], \n",
    "                                   botm=z[1:], \n",
    "                                  )\n",
    "    \n",
    "    # mobile storage and transfer\n",
    "    gwt_sto = fp.mf6.ModflowGwtmst(model=gwt, \n",
    "                                   porosity=npor, # porosity\n",
    "                                   save_flows=True,\n",
    "                                  )\n",
    "    \n",
    "    # initial condition\n",
    "    gwt_ic = fp.mf6.ModflowGwtic(model=gwt, \n",
    "                                 strt=cs, # initial concentration\n",
    "                                ) \n",
    "    \n",
    "    # source sink mixing\n",
    "    sourcelist = [(\"WEL1\", \"AUX\", \"CONCENTRATION\"), (\"CHD1\", \"AUX\", \"CONCENTRATION\")] # list of (pname, 'AUX', 'CONCENTRATION')\n",
    "    ssm = fp.mf6.ModflowGwtssm(model=gwt, \n",
    "                               sources=sourcelist, \n",
    "                               save_flows=True,\n",
    "                               pname='SSM1', \n",
    "                              )\n",
    "    \n",
    "    # advection\n",
    "    adv = fp.mf6.ModflowGwtadv(model=gwt,  \n",
    "                               scheme=\"upstream\", # use the upstream method\n",
    "                               pname='ADV1',\n",
    "                              )\n",
    "    \n",
    "    # dispersion\n",
    "    dsp = fp.mf6.ModflowGwtdsp(model=gwt, \n",
    "                               alh=alphaL, # longitudinal dispersivity\n",
    "                               ath1=alphaT, # transverse dispersivity\n",
    "                               diffc=diffusion_coef, # diffusion coefficient\n",
    "                               pname='DSP1', \n",
    "                              )\n",
    "    \n",
    "    # output control\n",
    "    oc = fp.mf6.ModflowGwtoc(model=gwt,\n",
    "                             saverecord=[(\"CONCENTRATION\", \"ALL\"), (\"BUDGET\", \"ALL\")], # what to save\n",
    "                             budget_filerecord=f\"{gwtname}.cbc\", # file name where all budget output is stored\n",
    "                             concentration_filerecord=f\"{gwtname}.ucn\", # file name where all concentration output is stored\n",
    "                            )\n",
    "\n",
    "    # interaction between gwf and gwt\n",
    "    fp.mf6.ModflowGwfgwt(simulation=sim, \n",
    "                         exgtype=\"GWF6-GWT6\", \n",
    "                         exgmnamea=gwf.name, # name of groundwater flow model \n",
    "                         exgmnameb=gwt.name, # name of transport model\n",
    "                         filename=f\"{modelname}.gwfgwt\",\n",
    "                        );\n",
    "        \n",
    "    # write input files and solve model\n",
    "    sim.write_simulation(silent=True)\n",
    "    success, _ = sim.run_simulation(silent=True) \n",
    "    if success == 1:\n",
    "        print('Model solved successfully')\n",
    "    else:\n",
    "        print('Solve failed')\n",
    "\n",
    "    # read concentration output\n",
    "    cobj = gwt.output.concentration() # get handle to binary concentration file\n",
    "    c = cobj.get_alldata().squeeze() # get the concentration data from the file\n",
    "    times = np.array(cobj.get_times()) # get the times and convert to array\n",
    "\n",
    "    return c, times"
   ]
  },
  {
   "cell_type": "code",
   "execution_count": null,
   "metadata": {},
   "outputs": [],
   "source": [
    "# run model\n",
    "c, times = asrmodel()"
   ]
  },
  {
   "cell_type": "code",
   "execution_count": null,
   "metadata": {},
   "outputs": [],
   "source": [
    "from ipywidgets import interact\n",
    "\n",
    "def contour(t=delt):\n",
    "    tstep = round(t / delt) - 1\n",
    "    plt.subplot(111, xlim=(0, 80), ylim=(-20, 0), xlabel='x (m)', ylabel='z (m)', aspect=1)\n",
    "    cs = plt.contour(xg, zc, c[tstep], np.arange(0.2, 1, 0.2), cmap='coolwarm')\n",
    "    plt.colorbar(cs, shrink=0.35, aspect=4)\n",
    "\n",
    "interact(contour, t=(delt, tin + tout, delt));"
   ]
  },
  {
   "cell_type": "markdown",
   "metadata": {},
   "source": [
    "## Recovery efficiency\n",
    "The concentration of the extracted water starts to increase after some time. The concentration in the first cell is plotted vs. time in the code cell below (i.e., after $t=50$ d, this is the concentration of the extracted water). "
   ]
  },
  {
   "cell_type": "code",
   "execution_count": null,
   "metadata": {},
   "outputs": [],
   "source": [
    "plt.plot(times, c[:, 0, 0])\n",
    "plt.xlabel('time (d)')\n",
    "plt.ylabel('concentration at $x=0$ (g/L)')\n",
    "plt.axvline(50, color='C1')\n",
    "plt.text(45, 0.25, 'start of extraction', rotation=90, va='center', color='C1')\n",
    "plt.grid()"
   ]
  },
  {
   "cell_type": "markdown",
   "metadata": {},
   "source": [
    "Determine the first time when the concentration of the extracted water exceeds $c_\\text{limit}=0.1$ kg/m$^3$ (g/L) (i.e., 10% of the background concentration). "
   ]
  },
  {
   "cell_type": "code",
   "execution_count": null,
   "metadata": {},
   "outputs": [],
   "source": [
    "climit = 0.1 # limit concentration, kg/m^3 (g/L)\n",
    "for itime in range(nstepin, nstepin + nstepout):\n",
    "    if c[itime, 0, 0] > climit:\n",
    "        break\n",
    "print(f'first time when c exceeds climit: {round(times[itime], 2)} d when concentration is {c[itime, 0, 0]:.2f} g/L')"
   ]
  },
  {
   "cell_type": "markdown",
   "metadata": {},
   "source": [
    "The recovery efficiency RE is defined as the volume of extacted water with a concentration below $c_\\text{limit}$ divided by the volume of injected water:\n",
    "\\begin{equation}\n",
    "\\text{RE} = \\frac{V_\\text{extracted}}{V_\\text{injected}}\n",
    "\\end{equation}"
   ]
  },
  {
   "cell_type": "code",
   "execution_count": null,
   "metadata": {},
   "outputs": [],
   "source": [
    "Vextracted = (times[itime - 1] - tin) * U # at itime c was above limit\n",
    "Vinjected = tin * U\n",
    "RE = Vextracted / Vinjected\n",
    "print(f'recovery efficiency = {RE * 100:.1f} %')"
   ]
  },
  {
   "cell_type": "markdown",
   "metadata": {},
   "source": [
    "### Exercise 2\n",
    "Investigate the effect on the recovery efficiency of changing the following parameters:\n",
    "* Change the 'upstream' method to the 'TVD' method in the solution of the advection part and keep it to 'TVD' for the remainder of this exercise. How did the recovery efficiency change?\n",
    "*  What happens to the recovery efficiency when the dispersivity is increased from $\\alpha_L=0.1$ m to $\\alpha_L=0.5$ m?\n",
    "* Set the dispersivity back to $\\alpha_L=0.1$ m. Compute the recovery efficiency for an injection period of 20 days. Did the recovery efficiency increase or decrease?\n",
    "* Compute the recovery efficiency for an injection period of 100 days. Did the recovery efficiency increase or decrease? Intuition says that the recovery efficiency should increase. If that didn't happen, what other change do you have to make to the model?"
   ]
  },
  {
   "cell_type": "markdown",
   "metadata": {},
   "source": [
    "### Reference\n",
    "Van Genuchten, M.T., and W.J. Alves. 1982. Analytical solutions of the one-dimensional convective-dispersive solute transport equation (No. 1661). US Department of Agriculture, Agricultural Research Service."
   ]
  }
 ],
 "metadata": {
  "kernelspec": {
   "display_name": "Python 3 (ipykernel)",
   "language": "python",
   "name": "python3"
  },
  "language_info": {
   "codemirror_mode": {
    "name": "ipython",
    "version": 3
   },
   "file_extension": ".py",
   "mimetype": "text/x-python",
   "name": "python",
   "nbconvert_exporter": "python",
   "pygments_lexer": "ipython3",
   "version": "3.11.4"
  }
 },
 "nbformat": 4,
 "nbformat_minor": 4
}
