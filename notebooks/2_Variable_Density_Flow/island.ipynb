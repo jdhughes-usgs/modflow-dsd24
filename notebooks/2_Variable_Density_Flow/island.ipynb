{
 "cells": [
  {
   "cell_type": "markdown",
   "metadata": {},
   "source": [
    "# Saltwater Intrusion: case study for Ameland\n",
    "\n",
    "<div>\n",
    "<img src=\"./data/ameland.jpg\" width=\"500\"/>\n",
    "<img src=\"./data/ameland_map.png\" width=\"514\">\n",
    "</div>\n",
    "\n",
    "This notebook is a conceptual 2D study of saltwater intrusion effects of hypothetical island with the topology of Ameland.\n",
    "The stresses driving the simulation are freshwater recharge (RCH) from precipitation on the island, and the sea boundary \n",
    "that is accounted for using general head boundary cells (GHB). The location and values of boundary elements is given\n",
    "with sealevel as a parameter, such that effects of sealevel rise can be studied.\n",
    "\n",
    "## Outline\n",
    "* Process elevation data for topology\n",
    "* Set up varying boundaries for rising sea level\n",
    "* Create the FloPy model GWF-GWT with the buoyancy package for density dependent flow\n",
    "* Run and plot results"
   ]
  },
  {
   "cell_type": "code",
   "execution_count": null,
   "metadata": {},
   "outputs": [],
   "source": [
    "import flopy\n",
    "\n",
    "import numpy as np\n",
    "import matplotlib.pyplot as plt\n",
    "from matplotlib.patches import Polygon"
   ]
  },
  {
   "cell_type": "markdown",
   "metadata": {},
   "source": [
    "This exercise is about sealevel rise, you can change the projection here:"
   ]
  },
  {
   "cell_type": "code",
   "execution_count": null,
   "metadata": {},
   "outputs": [],
   "source": [
    "init_sealevel = -0.9\n",
    "rise_per_period = 0.1"
   ]
  },
  {
   "cell_type": "markdown",
   "metadata": {},
   "source": [
    "Here we load the pre-processed cross section data from file. \n",
    "\n",
    "(As a matter of fact, it was taken from the database here https://www.ahn.nl/eerste-deel-van-ahn-5-is-beschikbaar\n",
    "and subsequently extracted from the TIFs using QGIS.)"
   ]
  },
  {
   "cell_type": "code",
   "execution_count": null,
   "metadata": {},
   "outputs": [],
   "source": [
    "# load \n",
    "arr = np.loadtxt(\"./data/ameland.dat\")\n",
    "x = arr[:,0]\n",
    "y = arr[:,1]\n",
    "\n",
    "# resample\n",
    "length = np.amax(x) - np.amin(x)\n",
    "nsamples = 41\n",
    "xc = np.linspace(np.amin(x), np.amax(x), nsamples)\n",
    "top = np.interp(xc, x, y)"
   ]
  },
  {
   "cell_type": "code",
   "execution_count": null,
   "metadata": {},
   "outputs": [],
   "source": [
    "plt.figure(figsize=(12,3))\n",
    "plt.plot(x, y, label=\"Ameland cross section\")\n",
    "plt.plot(xc, top, label=\"sampled TOP coordinates\")\n",
    "plt.hlines(init_sealevel, np.amin(x), np.amax(x), \n",
    "           linestyles=\"dashed\", color=\"grey\", \n",
    "           label=\"init. sea level\")\n",
    "_ = plt.legend()"
   ]
  },
  {
   "cell_type": "markdown",
   "metadata": {},
   "source": [
    "### Time data\n",
    "Here you set up the time data for the TDIS package. The first period will have the initial seal level as a boundary stress, and then multiple stress periods will follow to account for the rise."
   ]
  },
  {
   "cell_type": "code",
   "execution_count": null,
   "metadata": {},
   "outputs": [],
   "source": [
    "nper = 21\n",
    "year = 365.25\n",
    "dtmin = 1.0\n",
    "dt = 5 * year\n",
    "\n",
    "duration = 500 * year # days\n",
    "nsteps = duration / dt\n",
    "period_data = [(duration, nsteps, 1.0)]\n",
    "\n",
    "duration = 10 * year\n",
    "nsteps = duration / dt\n",
    "for iper in range(1,nper):\n",
    "    period_data.append((duration, nsteps, 1.0))"
   ]
  },
  {
   "cell_type": "markdown",
   "metadata": {},
   "source": [
    "### Input for the discretization package (DIS)\n",
    "The top layer will have a varying cell height resulting from the island topology. Deeper layers are modeled with equal dimensions."
   ]
  },
  {
   "cell_type": "code",
   "execution_count": null,
   "metadata": {},
   "outputs": [],
   "source": [
    "nlay = 16\n",
    "nrow = 1\n",
    "ncol = nsamples\n",
    "delr = delc = length/ncol\n",
    "\n",
    "topc = np.zeros((nlay, nrow, ncol), dtype=float)\n",
    "botm = np.zeros((nlay, nrow, ncol), dtype=float)\n",
    "\n",
    "dz = 160.0/nlay\n",
    "topc[0] = top.reshape((nrow,ncol))\n",
    "botm[0] = -5.0\n",
    "for ilay in range(1, nlay):\n",
    "    botm[ilay] = botm[ilay - 1] - dz\n",
    "    topc[ilay] = topc[ilay - 1] - dz"
   ]
  },
  {
   "cell_type": "markdown",
   "metadata": {},
   "source": [
    "### Other parameters and helper functions"
   ]
  },
  {
   "cell_type": "code",
   "execution_count": null,
   "metadata": {},
   "outputs": [],
   "source": [
    "porosity = spec_yield = 0.35 # which is neglecting specific retention \n",
    "\n",
    "conc_fresh = 0.0\n",
    "conc_sea = 35.0\n",
    "conc_limit = 20e-03 # 20 milligrams/liter for potable water\n",
    "\n",
    "rch_rate = 0.001 # m/d"
   ]
  },
  {
   "cell_type": "markdown",
   "metadata": {},
   "source": [
    "This function gives the sea level projection for each stress period number (`iper`)"
   ]
  },
  {
   "cell_type": "code",
   "execution_count": null,
   "metadata": {},
   "outputs": [],
   "source": [
    "def get_sea_level(iper):\n",
    "  return init_sealevel + iper * rise_per_period"
   ]
  },
  {
   "cell_type": "markdown",
   "metadata": {},
   "source": [
    "The sea water will cover increasingly more of the island when it is rising. The following function determines which columns are flooded, so they can be equipped with the appropriate GHB boundaries, but also the ones that aren't, for applying the recharge (RCHA) boundary condition."
   ]
  },
  {
   "cell_type": "code",
   "execution_count": null,
   "metadata": {},
   "outputs": [],
   "source": [
    "def get_flooded_cols(sea_level):\n",
    "  flooded_cols = []\n",
    "  for icol in range(ncol):\n",
    "      if sea_level > topc[0, 0, icol]:\n",
    "          flooded_cols.append(icol)\n",
    "      else: break\n",
    "  for icol in reversed(range(ncol)):\n",
    "      if sea_level > topc[0, 0, icol]:\n",
    "          flooded_cols.append(icol)\n",
    "      else: break\n",
    "    \n",
    "  return flooded_cols"
   ]
  },
  {
   "cell_type": "markdown",
   "metadata": {},
   "source": [
    "## Set up the FloPy model"
   ]
  },
  {
   "cell_type": "code",
   "execution_count": null,
   "metadata": {},
   "outputs": [],
   "source": [
    "sim_name = \"ameland\"\n",
    "gwt_name = \"gwt\"\n",
    "gwf_name = \"gwf\"\n",
    "\n",
    "sim = flopy.mf6.MFSimulation(\n",
    "    sim_ws=sim_name,\n",
    "    exe_name=\"mf6\",\n",
    ")"
   ]
  },
  {
   "cell_type": "markdown",
   "metadata": {},
   "source": [
    "### Adaptive Timestepping and TDIS\n",
    "Here we apply a relatively recent feature: adaptive timestepping control (ATS) to the TDIS package. This, together with the `ats_percel` parameter in the advection package below, will help restricting the timesteps to follow a Courant-type criterion and will prevent oscillations and disturbances of the simulated solute concentration."
   ]
  },
  {
   "cell_type": "code",
   "execution_count": null,
   "metadata": {},
   "outputs": [],
   "source": [
    "tdis = flopy.mf6.ModflowTdis(sim, \n",
    "                             nper=nper, \n",
    "                             perioddata=period_data)\n",
    "ats_filerecord = sim_name + \".ats\"\n",
    "atsperiod = [\n",
    "    (iper, dtmin, dtmin, dt, 2.0, 2.0) for iper in range(nper)\n",
    "]\n",
    "tdis.ats.initialize(\n",
    "    maxats=len(atsperiod),\n",
    "    perioddata=atsperiod,\n",
    "    filename=ats_filerecord,\n",
    ")"
   ]
  },
  {
   "cell_type": "markdown",
   "metadata": {},
   "source": [
    "The numerical solver data for the GWF solution:"
   ]
  },
  {
   "cell_type": "code",
   "execution_count": null,
   "metadata": {},
   "outputs": [],
   "source": [
    "imsgwf = flopy.mf6.ModflowIms(\n",
    "    sim,\n",
    "    complexity=\"complex\",\n",
    "    print_option=\"SUMMARY\",\n",
    "    linear_acceleration=\"bicgstab\",\n",
    "    outer_maximum=100,\n",
    "    inner_maximum=100,\n",
    "    outer_dvclose=1e-4,\n",
    "    inner_dvclose=1e-5,\n",
    ")"
   ]
  },
  {
   "cell_type": "markdown",
   "metadata": {},
   "source": [
    "## The GWF model"
   ]
  },
  {
   "cell_type": "code",
   "execution_count": null,
   "metadata": {},
   "outputs": [],
   "source": [
    "gwf = flopy.mf6.ModflowGwf(\n",
    "    sim,\n",
    "    modelname=gwf_name,\n",
    "    print_input=False,\n",
    "    save_flows=True, \n",
    "    newtonoptions=\"NEWTON UNDER_RELAXATION\",\n",
    ")\n",
    "\n",
    "# spatial discretization: regular grid DIS\n",
    "dis = flopy.mf6.ModflowGwfdis(\n",
    "    gwf,\n",
    "    nlay=nlay,\n",
    "    nrow=nrow,\n",
    "    ncol=ncol,\n",
    "    delr=delr,\n",
    "    delc=delc,\n",
    "    top=topc[0],\n",
    "    botm=botm,\n",
    "    idomain=1,\n",
    "    filename=f\"{gwf_name}.dis\",\n",
    ")"
   ]
  },
  {
   "cell_type": "markdown",
   "metadata": {},
   "source": [
    "We start with the heads set to the initial sea level:"
   ]
  },
  {
   "cell_type": "code",
   "execution_count": null,
   "metadata": {},
   "outputs": [],
   "source": [
    "# initial conditions IC\n",
    "strt = init_sealevel\n",
    "ic = flopy.mf6.ModflowGwfic(gwf, strt=strt)\n",
    "\n",
    "# the flow package NPF\n",
    "hk = 10.0\n",
    "npf = flopy.mf6.ModflowGwfnpf(\n",
    "    gwf,\n",
    "    save_specific_discharge=True,\n",
    "    icelltype=1,\n",
    "    k=hk,\n",
    ")"
   ]
  },
  {
   "cell_type": "markdown",
   "metadata": {},
   "source": [
    "The Buoyancy package will account for the density effects from varying salt concentration on the flow solution:"
   ]
  },
  {
   "cell_type": "code",
   "execution_count": null,
   "metadata": {},
   "outputs": [],
   "source": [
    "# configure the Buoyancy Package BUY\n",
    "pd = [(0, 0.7, 0.0, gwt_name, \"concentration\")]\n",
    "flopy.mf6.ModflowGwfbuy(\n",
    "    gwf, \n",
    "    packagedata=pd\n",
    ")\n",
    "\n",
    "# storage\n",
    "sto = flopy.mf6.ModflowGwfsto(\n",
    "    gwf,\n",
    "    save_flows=True,\n",
    "    iconvert=1,\n",
    "    ss=0.00001,\n",
    "    sy=spec_yield,\n",
    "    transient={0 : True},\n",
    ")"
   ]
  },
  {
   "cell_type": "markdown",
   "metadata": {},
   "source": [
    "We apply an array with recharge to the top of the model. This recharge is the source of fresh water in the model. But the columns that are flooded with sea water (which changes over the stress periods) will receive no recharge."
   ]
  },
  {
   "cell_type": "code",
   "execution_count": null,
   "metadata": {},
   "outputs": [],
   "source": [
    "rch_pkg = \"rch_package\"\n",
    "rch_spd = {}\n",
    "for iper in range(nper):\n",
    "    sea_level = get_sea_level(iper)\n",
    "    flooded_cols = get_flooded_cols(sea_level)\n",
    "    recharge = np.ones((nrow,ncol), dtype=float) * rch_rate\n",
    "    recharge[0, flooded_cols] = 0.0\n",
    "    rch_spd[iper] = recharge\n",
    "\n",
    "# recharge array package   \n",
    "rch = flopy.mf6.ModflowGwfrcha(\n",
    "    gwf,\n",
    "    recharge=rch_spd,\n",
    "    auxiliary=\"CONCENTRATION\",\n",
    "    aux={0 : conc_fresh},\n",
    "    pname=rch_pkg,\n",
    ")"
   ]
  },
  {
   "cell_type": "markdown",
   "metadata": {},
   "source": [
    "There are GHB cells in the model aligned vertically along the sides, as well as on the top of columns that are flooded. It is important set the auxiliary \"ELEVATION\" parameter for the latter because on default the nodal elevation is used, which is not correct. If you want the details on this, have a look at this paper: https://ngwa.onlinelibrary.wiley.com/doi/abs/10.1111/gwat.12967"
   ]
  },
  {
   "cell_type": "code",
   "execution_count": null,
   "metadata": {},
   "outputs": [],
   "source": [
    "ghb_pkg = \"ghb_package\"\n",
    "ghb_spd = {}\n",
    "for iper in range(nper):\n",
    "\n",
    "    ghb_data = []\n",
    "    sea_level = get_sea_level(iper)\n",
    "    flooded_cols = get_flooded_cols(sea_level)\n",
    "\n",
    "    # top GHBs\n",
    "    for icol in flooded_cols:\n",
    "        elev = topc[0, 0, icol] # top elevation\n",
    "        area = delr * delc\n",
    "        cell_height = topc[0, 0, icol] - botm[0, 0, icol]\n",
    "        cond = hk * area / (0.5 * cell_height)\n",
    "        ghb_data.append([(0, 0, icol), sea_level, cond, conc_sea, elev])\n",
    "    # side GHBs\n",
    "    for ilay in range(nlay):\n",
    "        elev = 0.5 * (topc[ilay, 0, 0] + botm[ilay, 0, 0]) # node elevation\n",
    "        area = delc * (topc[ilay, 0, 0] - botm[ilay, 0, 0])\n",
    "        cond = hk * area / (0.5 * delr)\n",
    "        ghb_data.append([(ilay, 0, 0), sea_level, cond, conc_sea, elev])\n",
    "    for ilay in range(nlay):\n",
    "        elev = 0.5 * (topc[ilay, 0, 0] + botm[ilay, 0, 0]) # node elevation\n",
    "        area = delc * (topc[ilay, 0, ncol - 1] - botm[ilay, 0, ncol - 1])\n",
    "        cond = hk * area / (0.5 * delr)\n",
    "        ghb_data.append([(ilay, 0, ncol - 1), sea_level, cond, conc_sea, elev])\n",
    "    \n",
    "    ghb_spd[iper] = ghb_data\n",
    "\n",
    "# the general head boundary package\n",
    "ghb = flopy.mf6.ModflowGwfghb(\n",
    "    gwf,\n",
    "    maxbound=len(ghb_spd),\n",
    "    auxiliary=[\"CONCENTRATION\",\"ELEVATION\"],\n",
    "    stress_period_data=ghb_spd,\n",
    "    pname=ghb_pkg,\n",
    ")"
   ]
  },
  {
   "cell_type": "markdown",
   "metadata": {},
   "source": [
    "The top cells that are not flooded are equipped with a drain which gives the water a chance to leave the system:"
   ]
  },
  {
   "cell_type": "code",
   "execution_count": null,
   "metadata": {},
   "outputs": [],
   "source": [
    "drn_pkg = \"drn_package\"\n",
    "drn_spd = {}\n",
    "for iper in range(nper):\n",
    "    drn_data = []\n",
    "    sea_level = get_sea_level(iper)\n",
    "    flooded_cols = get_flooded_cols(sea_level)\n",
    "\n",
    "    for icol in range(ncol):\n",
    "        if icol in flooded_cols: continue\n",
    "        cell_height = topc[0, 0, icol] - botm[0, 0, icol]\n",
    "        area = delr * delc\n",
    "        cond = hk * area / (0.5 * cell_height)  # kv / b\n",
    "        drn_data.append([(0, 0, icol), topc[0, 0, icol], cond])\n",
    "    \n",
    "    drn_spd[iper] = drn_data\n",
    "\n",
    "# drains\n",
    "drn = flopy.mf6.ModflowGwfdrn(\n",
    "    gwf,\n",
    "    maxbound=len(drn_spd),\n",
    "    stress_period_data=drn_spd,\n",
    "    pname=drn_pkg,\n",
    ")"
   ]
  },
  {
   "cell_type": "code",
   "execution_count": null,
   "metadata": {},
   "outputs": [],
   "source": [
    "# output control\n",
    "oc = flopy.mf6.ModflowGwfoc(\n",
    "    gwf,\n",
    "    head_filerecord=f\"{gwf.name}.hds\",\n",
    "    budget_filerecord=f\"{gwf.name}.cbc\",\n",
    "    saverecord=[(\"HEAD\", \"LAST\"), (\"BUDGET\", \"LAST\")],\n",
    "    printrecord=[(\"BUDGET\", \"LAST\")],\n",
    ")\n",
    "\n",
    "# match model with numerical solution\n",
    "sim.register_ims_package(imsgwf, [gwf_name])"
   ]
  },
  {
   "cell_type": "markdown",
   "metadata": {},
   "source": [
    "## The GWT model"
   ]
  },
  {
   "cell_type": "code",
   "execution_count": null,
   "metadata": {},
   "outputs": [],
   "source": [
    "gwt = flopy.mf6.ModflowGwt(\n",
    "        sim,\n",
    "        modelname=gwt_name,\n",
    "        print_input=False,\n",
    "        save_flows=True,\n",
    ")\n",
    "\n",
    "# DIS: same grid as flow\n",
    "dis = flopy.mf6.ModflowGwtdis(\n",
    "    gwt,\n",
    "    nlay=nlay,\n",
    "    nrow=nrow,\n",
    "    ncol=ncol,\n",
    "    delr=delr,\n",
    "    delc=delc,\n",
    "    idomain=1,\n",
    "    top=topc[0],\n",
    "    botm=botm,\n",
    ")"
   ]
  },
  {
   "cell_type": "markdown",
   "metadata": {},
   "source": [
    "The model is completely salt at first, so the freshwater recharge has to drive away the salt to build up a lense"
   ]
  },
  {
   "cell_type": "code",
   "execution_count": null,
   "metadata": {},
   "outputs": [],
   "source": [
    "conc_start = conc_sea\n",
    "# initial conditions\n",
    "ic = flopy.mf6.ModflowGwtic(gwt, strt=conc_start, filename=f\"{gwt_name}.ic\")"
   ]
  },
  {
   "cell_type": "markdown",
   "metadata": {},
   "source": [
    "Note that the advection package has the `ats_percel` parameter, discussed earlier:"
   ]
  },
  {
   "cell_type": "code",
   "execution_count": null,
   "metadata": {},
   "outputs": [],
   "source": [
    "# advection\n",
    "adv = flopy.mf6.ModflowGwtadv(\n",
    "  gwt, \n",
    "  scheme=\"tvd\",\n",
    "  ats_percel=0.7,\n",
    "  filename=f\"{gwt_name}.adv\")"
   ]
  },
  {
   "cell_type": "code",
   "execution_count": null,
   "metadata": {},
   "outputs": [],
   "source": [
    "diffc = 0.0\n",
    "alphal = 0.1\n",
    "# dispersion package\n",
    "dsp = flopy.mf6.ModflowGwtdsp(\n",
    "    gwt,\n",
    "    diffc=diffc,\n",
    "    alh=alphal,\n",
    "    alv=alphal,\n",
    "    ath1=0.0,\n",
    "    atv=0.0,\n",
    "    filename=f\"{gwt_name}.dsp\",\n",
    ")"
   ]
  },
  {
   "cell_type": "markdown",
   "metadata": {},
   "source": [
    "The Mobile Storage and Transfer (MST) Package of the GWT Model for MODFLOW 6 represents solute\n",
    "mass storage, sorption, and first- or zero-order decay:"
   ]
  },
  {
   "cell_type": "code",
   "execution_count": null,
   "metadata": {},
   "outputs": [],
   "source": [
    "# mobile storage\n",
    "mst = flopy.mf6.ModflowGwtmst(\n",
    "    gwt, \n",
    "    porosity=porosity,\n",
    "    filename=f\"{gwt_name}.mst\"\n",
    ")"
   ]
  },
  {
   "cell_type": "markdown",
   "metadata": {},
   "source": [
    "Flow model source and sink mixing:"
   ]
  },
  {
   "cell_type": "code",
   "execution_count": null,
   "metadata": {},
   "outputs": [],
   "source": [
    "sourcerecarray = [\n",
    "    (rch_pkg, \"AUX\", \"CONCENTRATION\"),\n",
    "    (ghb_pkg, \"AUX\", \"CONCENTRATION\")\n",
    "]\n",
    "ssm = flopy.mf6.ModflowGwtssm(\n",
    "    gwt, sources=sourcerecarray, filename=f\"{gwt_name}.ssm\"\n",
    ")"
   ]
  },
  {
   "cell_type": "code",
   "execution_count": null,
   "metadata": {},
   "outputs": [],
   "source": [
    "# output control\n",
    "oc = flopy.mf6.ModflowGwtoc(\n",
    "    gwt,\n",
    "    budget_filerecord=f\"{gwt_name}.cbc\",\n",
    "    concentration_filerecord=f\"{gwt_name}.ucn\",\n",
    "    saverecord=[(\"CONCENTRATION\", \"LAST\"), (\"BUDGET\", \"LAST\")],\n",
    ")\n",
    "\n",
    "# numerical solution for the solute transport\n",
    "imsgwt = flopy.mf6.ModflowIms(\n",
    "        sim,\n",
    "        complexity=\"complex\",\n",
    "        print_option=\"SUMMARY\",\n",
    "        linear_acceleration=\"bicgstab\",\n",
    "        outer_maximum=1000,\n",
    "        inner_maximum=100,\n",
    "        outer_dvclose=1e-4,\n",
    "        inner_dvclose=1e-5,\n",
    "        filename=f\"{gwt_name}.ims\",\n",
    "    )\n",
    "\n",
    "# match transport model with the solution\n",
    "sim.register_ims_package(imsgwt, [gwt_name])"
   ]
  },
  {
   "cell_type": "markdown",
   "metadata": {},
   "source": [
    "The flow model needs to be coupled to its transport counterpart through an Exchange:"
   ]
  },
  {
   "cell_type": "code",
   "execution_count": null,
   "metadata": {},
   "outputs": [],
   "source": [
    "gwfgwt = flopy.mf6.ModflowGwfgwt(\n",
    "    sim,\n",
    "    exgtype=\"GWF6-GWT6\",\n",
    "    exgmnamea=gwf_name,\n",
    "    exgmnameb=gwt_name,\n",
    "    filename=\"gwfgwt.exg\",\n",
    ")"
   ]
  },
  {
   "cell_type": "markdown",
   "metadata": {},
   "source": [
    "Note: the following command will produce quite a bit of output. You can also enable it and limit this in Jupyter Lab by right clicking on output cell and selecting **Enable Scrolling for Outputs**. Or simply set the silent flags to False."
   ]
  },
  {
   "cell_type": "code",
   "execution_count": null,
   "metadata": {
    "scrolled": true
   },
   "outputs": [],
   "source": [
    "sim.write_simulation(silent=False)\n",
    "success, text = sim.run_simulation(silent=False)\n",
    "if not success:\n",
    "  raise ValueError(f\"Simulation failed\")"
   ]
  },
  {
   "cell_type": "markdown",
   "metadata": {},
   "source": [
    "### Plot the water table on the terrain"
   ]
  },
  {
   "cell_type": "code",
   "execution_count": null,
   "metadata": {},
   "outputs": [],
   "source": [
    "times = gwf.output.head().get_times()\n",
    "head_first = gwf.output.head().get_data(totim=times[0])\n",
    "head_last = gwf.output.head().get_data(totim=times[-1])\n",
    "wt_first = flopy.utils.postprocessing.get_water_table(head_first)\n",
    "wt_last = flopy.utils.postprocessing.get_water_table(head_last)\n",
    "\n",
    "fig = plt.figure(figsize=(14,3))\n",
    "plt.plot(xc, wt_first, label=\"initial water table (period = 1)\")\n",
    "plt.plot(xc, wt_last, label=\"final water table (period = nper)\")\n",
    "plt.plot(xc, top, label=\"top elevation\")\n",
    "plt.grid()\n",
    "plt.legend()"
   ]
  },
  {
   "cell_type": "markdown",
   "metadata": {},
   "source": [
    "A function to come up with an estimate for the volume of potable water in the aquifer:"
   ]
  },
  {
   "cell_type": "code",
   "execution_count": null,
   "metadata": {},
   "outputs": [],
   "source": [
    "# returns 'volume' in m^2 (volume per meter along the y-axis)\n",
    "def get_potable_volume(conc, limit):\n",
    "  potable_volume = 0.0\n",
    "  for ilay in range(nlay):\n",
    "    for icol in range(ncol):\n",
    "        if conc[ilay, 0, icol] < limit:\n",
    "          vol = porosity * delr * 1.0 * (topc[ilay, 0, icol] - botm[ilay, 0, icol])\n",
    "          potable_volume += vol\n",
    "  return potable_volume"
   ]
  },
  {
   "cell_type": "markdown",
   "metadata": {},
   "source": [
    "## Final result: head and concentration as a result of sea level rise"
   ]
  },
  {
   "cell_type": "code",
   "execution_count": null,
   "metadata": {},
   "outputs": [],
   "source": [
    "plot_periods = [0, 3, int(nper/2), nper - 1]\n",
    "nr_plots = len(plot_periods)\n",
    "\n",
    "fig, axs = plt.subplots(len(plot_periods), 2, figsize=(16, 4 * nr_plots))\n",
    "for idx, iper in enumerate(plot_periods):\n",
    "  head = gwf.output.head().get_data(totim=times[iper])\n",
    "  conc = gwt.output.concentration().get_data(totim=times[iper])\n",
    "\n",
    "  # plot heads and location of boundary conditions\n",
    "  ax = axs[idx, 0]\n",
    "  t_yrs = int(0.1 + times[iper]/365.25)\n",
    "  csl_m = get_sea_level(iper) - init_sealevel\n",
    "  ax.set_title(f\"t = {t_yrs} years, sealevel rise = {csl_m:.1f}\")\n",
    "  pxs = flopy.plot.PlotCrossSection(model=gwf, line={\"row\": 0}, ax=ax)\n",
    "  pa = pxs.plot_array(head, head=head)\n",
    "  pxs.plot_grid()\n",
    "  pc_ghb = pxs.plot_bc(\"GHB\", ec=\"darkred\", fc='none', lw=1.5, label=\"GHB\", kper=iper)\n",
    "  pxs.plot_bc(\"DRN\", ec=\"darkblue\", fc='none', lw=1.5,label=\"DRN\", kper=iper)\n",
    "  handles = [Polygon([(0,0), (10,0), (0,-10)], fc='none', color=\"darkred\", label=\"GHB\"),\n",
    "             Polygon([(0,0), (10,0), (0,-10)], fc='none', color=\"darkblue\", label=\"DRN\")]\n",
    "  cb = plt.colorbar(pa)\n",
    "  cb.set_label(\"freshwater head [m]\")\n",
    "  ax.set_ylim(-120,)\n",
    "  if idx == 0:\n",
    "    ax.legend(handles=handles, loc=\"lower right\", facecolor='lightgrey', framealpha=1)\n",
    "\n",
    "  # plot concentration and contours\n",
    "  ax = axs[idx, 1]\n",
    "  ax.set_title(f\"potable vol. = {int(get_potable_volume(conc, conc_limit))} m3/m\")\n",
    "  pxs = flopy.plot.PlotCrossSection(model=gwt, line={\"row\": 0}, ax=ax)\n",
    "  pa = pxs.plot_array(conc, head=head)\n",
    "  nr_levels = 5\n",
    "  levels = np.linspace(conc_limit, conc_sea/2.0, nr_levels)\n",
    "  cs = pxs.contour_array(conc, levels=levels, cmap=\"Reds\")\n",
    "  handles, labels = cs.legend_elements()\n",
    "  pxs.plot_grid()\n",
    "  cb = plt.colorbar(pa)\n",
    "  cb.set_label(\"concentration [kg/m3]\")\n",
    "  ax.set_ylim(-120,)\n",
    "  if idx == 0:\n",
    "    ax.legend(handles, \n",
    "                    [f\"{levels[i]:.2f}\" for i in range(nr_levels)], \n",
    "                    loc='lower right',facecolor='lightgrey', framealpha=1)\n"
   ]
  },
  {
   "cell_type": "code",
   "execution_count": null,
   "metadata": {},
   "outputs": [],
   "source": []
  }
 ],
 "metadata": {
  "kernelspec": {
   "display_name": "modflow6",
   "language": "python",
   "name": "python3"
  },
  "language_info": {
   "codemirror_mode": {
    "name": "ipython",
    "version": 3
   },
   "file_extension": ".py",
   "mimetype": "text/x-python",
   "name": "python",
   "nbconvert_exporter": "python",
   "pygments_lexer": "ipython3",
   "version": "3.12.3"
  }
 },
 "nbformat": 4,
 "nbformat_minor": 4
}
